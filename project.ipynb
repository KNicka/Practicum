{
 "cells": [
  {
   "cell_type": "markdown",
   "metadata": {
    "toc": true
   },
   "source": [
    "<h1>Содержание<span class=\"tocSkip\"></span></h1>\n",
    "<div class=\"toc\"><ul class=\"toc-item\"><li><span><a href=\"#Подготовка-данных\" data-toc-modified-id=\"Подготовка-данных-1\"><span class=\"toc-item-num\">1&nbsp;&nbsp;</span>Подготовка данных</a></span></li><li><span><a href=\"#Исследование-задачи\" data-toc-modified-id=\"Исследование-задачи-2\"><span class=\"toc-item-num\">2&nbsp;&nbsp;</span>Исследование задачи</a></span></li><li><span><a href=\"#Борьба-с-дисбалансом\" data-toc-modified-id=\"Борьба-с-дисбалансом-3\"><span class=\"toc-item-num\">3&nbsp;&nbsp;</span>Борьба с дисбалансом</a></span></li><li><span><a href=\"#Тестирование-модели\" data-toc-modified-id=\"Тестирование-модели-4\"><span class=\"toc-item-num\">4&nbsp;&nbsp;</span>Тестирование модели</a></span></li></ul></div>"
   ]
  },
  {
   "cell_type": "markdown",
   "metadata": {},
   "source": [
    "# Отток клиентов"
   ]
  },
  {
   "cell_type": "markdown",
   "metadata": {},
   "source": [
    "Из «Бета-Банка» стали уходить клиенты. Каждый месяц. Немного, но заметно. Банковские маркетологи посчитали: сохранять текущих клиентов дешевле, чем привлекать новых.\n",
    "\n",
    "Нужно спрогнозировать, уйдёт клиент из банка в ближайшее время или нет. Вам предоставлены исторические данные о поведении клиентов и расторжении договоров с банком. \n",
    "\n",
    "Постройте модель с предельно большим значением *F1*-меры. Чтобы сдать проект успешно, нужно довести метрику до 0.59. Проверьте *F1*-меру на тестовой выборке самостоятельно.\n",
    "\n",
    "Дополнительно измеряйте *AUC-ROC*, сравнивайте её значение с *F1*-мерой.\n",
    "\n",
    "Источник данных: [https://www.kaggle.com/barelydedicated/bank-customer-churn-modeling](https://www.kaggle.com/barelydedicated/bank-customer-churn-modeling)"
   ]
  },
  {
   "cell_type": "markdown",
   "metadata": {},
   "source": [
    "## Подготовка данных"
   ]
  },
  {
   "cell_type": "code",
   "execution_count": 1,
   "metadata": {},
   "outputs": [],
   "source": [
    "import pandas as pd\n",
    "import matplotlib.pyplot as plt\n",
    "from sklearn.model_selection import train_test_split\n",
    "from sklearn.linear_model import LogisticRegression\n",
    "from sklearn.tree import DecisionTreeClassifier\n",
    "from sklearn.ensemble import RandomForestClassifier\n",
    "from sklearn.preprocessing import StandardScaler\n",
    "pd.options.mode.chained_assignment = None\n",
    "from sklearn.metrics import f1_score\n",
    "from sklearn.utils import shuffle\n",
    "from sklearn.utils import resample\n",
    "from sklearn.metrics import roc_curve\n",
    "from sklearn.metrics import roc_auc_score"
   ]
  },
  {
   "cell_type": "markdown",
   "metadata": {},
   "source": [
    "Загрузим данные и выведем первые строки таблицы."
   ]
  },
  {
   "cell_type": "code",
   "execution_count": 2,
   "metadata": {
    "scrolled": true
   },
   "outputs": [
    {
     "name": "stdout",
     "output_type": "stream",
     "text": [
      "   RowNumber  CustomerId   Surname  CreditScore Geography  Gender  Age  \\\n",
      "0          1    15634602  Hargrave          619    France  Female   42   \n",
      "1          2    15647311      Hill          608     Spain  Female   41   \n",
      "2          3    15619304      Onio          502    France  Female   42   \n",
      "3          4    15701354      Boni          699    France  Female   39   \n",
      "4          5    15737888  Mitchell          850     Spain  Female   43   \n",
      "5          6    15574012       Chu          645     Spain    Male   44   \n",
      "6          7    15592531  Bartlett          822    France    Male   50   \n",
      "7          8    15656148    Obinna          376   Germany  Female   29   \n",
      "8          9    15792365        He          501    France    Male   44   \n",
      "9         10    15592389        H?          684    France    Male   27   \n",
      "\n",
      "   Tenure    Balance  NumOfProducts  HasCrCard  IsActiveMember  \\\n",
      "0     2.0       0.00              1          1               1   \n",
      "1     1.0   83807.86              1          0               1   \n",
      "2     8.0  159660.80              3          1               0   \n",
      "3     1.0       0.00              2          0               0   \n",
      "4     2.0  125510.82              1          1               1   \n",
      "5     8.0  113755.78              2          1               0   \n",
      "6     7.0       0.00              2          1               1   \n",
      "7     4.0  115046.74              4          1               0   \n",
      "8     4.0  142051.07              2          0               1   \n",
      "9     2.0  134603.88              1          1               1   \n",
      "\n",
      "   EstimatedSalary  Exited  \n",
      "0        101348.88       1  \n",
      "1        112542.58       0  \n",
      "2        113931.57       1  \n",
      "3         93826.63       0  \n",
      "4         79084.10       0  \n",
      "5        149756.71       1  \n",
      "6         10062.80       0  \n",
      "7        119346.88       1  \n",
      "8         74940.50       0  \n",
      "9         71725.73       0  \n"
     ]
    }
   ],
   "source": [
    "data = pd.read_csv('/datasets/Churn.csv')\n",
    "print(data.head(10))"
   ]
  },
  {
   "cell_type": "code",
   "execution_count": 3,
   "metadata": {},
   "outputs": [
    {
     "name": "stdout",
     "output_type": "stream",
     "text": [
      "<class 'pandas.core.frame.DataFrame'>\n",
      "RangeIndex: 10000 entries, 0 to 9999\n",
      "Data columns (total 14 columns):\n",
      " #   Column           Non-Null Count  Dtype  \n",
      "---  ------           --------------  -----  \n",
      " 0   RowNumber        10000 non-null  int64  \n",
      " 1   CustomerId       10000 non-null  int64  \n",
      " 2   Surname          10000 non-null  object \n",
      " 3   CreditScore      10000 non-null  int64  \n",
      " 4   Geography        10000 non-null  object \n",
      " 5   Gender           10000 non-null  object \n",
      " 6   Age              10000 non-null  int64  \n",
      " 7   Tenure           9091 non-null   float64\n",
      " 8   Balance          10000 non-null  float64\n",
      " 9   NumOfProducts    10000 non-null  int64  \n",
      " 10  HasCrCard        10000 non-null  int64  \n",
      " 11  IsActiveMember   10000 non-null  int64  \n",
      " 12  EstimatedSalary  10000 non-null  float64\n",
      " 13  Exited           10000 non-null  int64  \n",
      "dtypes: float64(3), int64(8), object(3)\n",
      "memory usage: 1.1+ MB\n"
     ]
    }
   ],
   "source": [
    "# посмотрим информацию по таблице\n",
    "data.info()"
   ]
  },
  {
   "cell_type": "code",
   "execution_count": 4,
   "metadata": {},
   "outputs": [
    {
     "data": {
      "text/plain": [
       "0"
      ]
     },
     "execution_count": 4,
     "metadata": {},
     "output_type": "execute_result"
    }
   ],
   "source": [
    "# в столбце с пропусками заполним пропуски медианой и проверим, что пропуски заполнены\n",
    "data.loc[data['Tenure'].isna(), 'Tenure'] = data['Tenure'].median()\n",
    "data['Tenure'].isna().sum()"
   ]
  },
  {
   "cell_type": "code",
   "execution_count": 5,
   "metadata": {},
   "outputs": [
    {
     "data": {
      "text/html": [
       "<div>\n",
       "<style scoped>\n",
       "    .dataframe tbody tr th:only-of-type {\n",
       "        vertical-align: middle;\n",
       "    }\n",
       "\n",
       "    .dataframe tbody tr th {\n",
       "        vertical-align: top;\n",
       "    }\n",
       "\n",
       "    .dataframe thead th {\n",
       "        text-align: right;\n",
       "    }\n",
       "</style>\n",
       "<table border=\"1\" class=\"dataframe\">\n",
       "  <thead>\n",
       "    <tr style=\"text-align: right;\">\n",
       "      <th></th>\n",
       "      <th>CreditScore</th>\n",
       "      <th>Geography</th>\n",
       "      <th>Gender</th>\n",
       "      <th>Age</th>\n",
       "      <th>Tenure</th>\n",
       "      <th>Balance</th>\n",
       "      <th>NumOfProducts</th>\n",
       "      <th>HasCrCard</th>\n",
       "      <th>IsActiveMember</th>\n",
       "      <th>EstimatedSalary</th>\n",
       "      <th>Exited</th>\n",
       "    </tr>\n",
       "  </thead>\n",
       "  <tbody>\n",
       "    <tr>\n",
       "      <th>0</th>\n",
       "      <td>619</td>\n",
       "      <td>France</td>\n",
       "      <td>Female</td>\n",
       "      <td>42</td>\n",
       "      <td>2.0</td>\n",
       "      <td>0.00</td>\n",
       "      <td>1</td>\n",
       "      <td>1</td>\n",
       "      <td>1</td>\n",
       "      <td>101348.88</td>\n",
       "      <td>1</td>\n",
       "    </tr>\n",
       "    <tr>\n",
       "      <th>1</th>\n",
       "      <td>608</td>\n",
       "      <td>Spain</td>\n",
       "      <td>Female</td>\n",
       "      <td>41</td>\n",
       "      <td>1.0</td>\n",
       "      <td>83807.86</td>\n",
       "      <td>1</td>\n",
       "      <td>0</td>\n",
       "      <td>1</td>\n",
       "      <td>112542.58</td>\n",
       "      <td>0</td>\n",
       "    </tr>\n",
       "    <tr>\n",
       "      <th>2</th>\n",
       "      <td>502</td>\n",
       "      <td>France</td>\n",
       "      <td>Female</td>\n",
       "      <td>42</td>\n",
       "      <td>8.0</td>\n",
       "      <td>159660.80</td>\n",
       "      <td>3</td>\n",
       "      <td>1</td>\n",
       "      <td>0</td>\n",
       "      <td>113931.57</td>\n",
       "      <td>1</td>\n",
       "    </tr>\n",
       "    <tr>\n",
       "      <th>3</th>\n",
       "      <td>699</td>\n",
       "      <td>France</td>\n",
       "      <td>Female</td>\n",
       "      <td>39</td>\n",
       "      <td>1.0</td>\n",
       "      <td>0.00</td>\n",
       "      <td>2</td>\n",
       "      <td>0</td>\n",
       "      <td>0</td>\n",
       "      <td>93826.63</td>\n",
       "      <td>0</td>\n",
       "    </tr>\n",
       "    <tr>\n",
       "      <th>4</th>\n",
       "      <td>850</td>\n",
       "      <td>Spain</td>\n",
       "      <td>Female</td>\n",
       "      <td>43</td>\n",
       "      <td>2.0</td>\n",
       "      <td>125510.82</td>\n",
       "      <td>1</td>\n",
       "      <td>1</td>\n",
       "      <td>1</td>\n",
       "      <td>79084.10</td>\n",
       "      <td>0</td>\n",
       "    </tr>\n",
       "  </tbody>\n",
       "</table>\n",
       "</div>"
      ],
      "text/plain": [
       "   CreditScore Geography  Gender  Age  Tenure    Balance  NumOfProducts  \\\n",
       "0          619    France  Female   42     2.0       0.00              1   \n",
       "1          608     Spain  Female   41     1.0   83807.86              1   \n",
       "2          502    France  Female   42     8.0  159660.80              3   \n",
       "3          699    France  Female   39     1.0       0.00              2   \n",
       "4          850     Spain  Female   43     2.0  125510.82              1   \n",
       "\n",
       "   HasCrCard  IsActiveMember  EstimatedSalary  Exited  \n",
       "0          1               1        101348.88       1  \n",
       "1          0               1        112542.58       0  \n",
       "2          1               0        113931.57       1  \n",
       "3          0               0         93826.63       0  \n",
       "4          1               1         79084.10       0  "
      ]
     },
     "execution_count": 5,
     "metadata": {},
     "output_type": "execute_result"
    }
   ],
   "source": [
    "# подготовим таблицу для исследования без столбцов, не несущих смысловой нагрузки, удалив их\n",
    "data_new = data.drop(['RowNumber', 'CustomerId', 'Surname'], axis=1)\n",
    "data_new.head()"
   ]
  },
  {
   "cell_type": "markdown",
   "metadata": {},
   "source": [
    "## Исследование задачи"
   ]
  },
  {
   "cell_type": "markdown",
   "metadata": {},
   "source": [
    "Объявим переменные с целевым признаком и остальными признаками, разделим данные на обучающую, валидационную и тестовую выборки в соотношении 3:1:1, проверим размер полученных выборок."
   ]
  },
  {
   "cell_type": "code",
   "execution_count": 6,
   "metadata": {},
   "outputs": [],
   "source": [
    "# объявим переменные с целевым и остальными признаками\n",
    "target = data_new['Exited']\n",
    "features = data_new.drop(['Exited'], axis=1)\n",
    "# сначала разделим на обучающую и остальную выборки в соотношении 60/40\n",
    "features_train, features_rest, target_train, target_rest = train_test_split(features, target, test_size=0.4, random_state=12345)"
   ]
  },
  {
   "cell_type": "code",
   "execution_count": 7,
   "metadata": {},
   "outputs": [],
   "source": [
    "# разделимполученную выборку rest пополам на валидационную и тестовую\n",
    "features_valid, features_test, target_valid, target_test = train_test_split(features_rest, target_rest, test_size=0.5, random_state=12345)"
   ]
  },
  {
   "cell_type": "code",
   "execution_count": 8,
   "metadata": {
    "scrolled": true
   },
   "outputs": [
    {
     "name": "stdout",
     "output_type": "stream",
     "text": [
      "(6000,)\n",
      "(2000,)\n",
      "(2000,)\n",
      "(6000, 10)\n",
      "(2000, 10)\n",
      "(2000, 10)\n"
     ]
    }
   ],
   "source": [
    "# проверим размер полученных выборок\n",
    "print(target_train.shape)\n",
    "print(target_valid.shape)\n",
    "print(target_test.shape)\n",
    "print(features_train.shape)\n",
    "print(features_valid.shape)\n",
    "print(features_test.shape)"
   ]
  },
  {
   "cell_type": "code",
   "execution_count": 9,
   "metadata": {},
   "outputs": [
    {
     "name": "stdout",
     "output_type": "stream",
     "text": [
      "CreditScore          int64\n",
      "Geography           object\n",
      "Gender              object\n",
      "Age                  int64\n",
      "Tenure             float64\n",
      "Balance            float64\n",
      "NumOfProducts        int64\n",
      "HasCrCard            int64\n",
      "IsActiveMember       int64\n",
      "EstimatedSalary    float64\n",
      "Exited               int64\n",
      "dtype: object\n"
     ]
    }
   ],
   "source": [
    "# проверим и выведем признаки какого типа хранятся в таблице\n",
    "print(data_new.dtypes)"
   ]
  },
  {
   "cell_type": "code",
   "execution_count": 10,
   "metadata": {},
   "outputs": [],
   "source": [
    "# преобразуем категориальные признаки Gender и Geography из категориальных в численные\n",
    "features_train = pd.get_dummies(features_train, drop_first=True)"
   ]
  },
  {
   "cell_type": "code",
   "execution_count": 11,
   "metadata": {},
   "outputs": [
    {
     "data": {
      "text/html": [
       "<div>\n",
       "<style scoped>\n",
       "    .dataframe tbody tr th:only-of-type {\n",
       "        vertical-align: middle;\n",
       "    }\n",
       "\n",
       "    .dataframe tbody tr th {\n",
       "        vertical-align: top;\n",
       "    }\n",
       "\n",
       "    .dataframe thead th {\n",
       "        text-align: right;\n",
       "    }\n",
       "</style>\n",
       "<table border=\"1\" class=\"dataframe\">\n",
       "  <thead>\n",
       "    <tr style=\"text-align: right;\">\n",
       "      <th></th>\n",
       "      <th>CreditScore</th>\n",
       "      <th>Age</th>\n",
       "      <th>Tenure</th>\n",
       "      <th>Balance</th>\n",
       "      <th>NumOfProducts</th>\n",
       "      <th>HasCrCard</th>\n",
       "      <th>IsActiveMember</th>\n",
       "      <th>EstimatedSalary</th>\n",
       "      <th>Geography_Germany</th>\n",
       "      <th>Geography_Spain</th>\n",
       "      <th>Gender_Male</th>\n",
       "    </tr>\n",
       "  </thead>\n",
       "  <tbody>\n",
       "    <tr>\n",
       "      <th>7479</th>\n",
       "      <td>567</td>\n",
       "      <td>35</td>\n",
       "      <td>8.0</td>\n",
       "      <td>153137.74</td>\n",
       "      <td>1</td>\n",
       "      <td>1</td>\n",
       "      <td>0</td>\n",
       "      <td>88659.07</td>\n",
       "      <td>0</td>\n",
       "      <td>1</td>\n",
       "      <td>1</td>\n",
       "    </tr>\n",
       "    <tr>\n",
       "      <th>3411</th>\n",
       "      <td>711</td>\n",
       "      <td>37</td>\n",
       "      <td>8.0</td>\n",
       "      <td>113899.92</td>\n",
       "      <td>1</td>\n",
       "      <td>0</td>\n",
       "      <td>0</td>\n",
       "      <td>80215.20</td>\n",
       "      <td>0</td>\n",
       "      <td>0</td>\n",
       "      <td>0</td>\n",
       "    </tr>\n",
       "    <tr>\n",
       "      <th>6027</th>\n",
       "      <td>850</td>\n",
       "      <td>44</td>\n",
       "      <td>3.0</td>\n",
       "      <td>140393.65</td>\n",
       "      <td>2</td>\n",
       "      <td>0</td>\n",
       "      <td>1</td>\n",
       "      <td>186285.52</td>\n",
       "      <td>1</td>\n",
       "      <td>0</td>\n",
       "      <td>1</td>\n",
       "    </tr>\n",
       "    <tr>\n",
       "      <th>1247</th>\n",
       "      <td>512</td>\n",
       "      <td>24</td>\n",
       "      <td>6.0</td>\n",
       "      <td>0.00</td>\n",
       "      <td>2</td>\n",
       "      <td>1</td>\n",
       "      <td>0</td>\n",
       "      <td>37654.31</td>\n",
       "      <td>0</td>\n",
       "      <td>0</td>\n",
       "      <td>1</td>\n",
       "    </tr>\n",
       "    <tr>\n",
       "      <th>3716</th>\n",
       "      <td>665</td>\n",
       "      <td>27</td>\n",
       "      <td>2.0</td>\n",
       "      <td>147435.96</td>\n",
       "      <td>1</td>\n",
       "      <td>0</td>\n",
       "      <td>0</td>\n",
       "      <td>187508.06</td>\n",
       "      <td>1</td>\n",
       "      <td>0</td>\n",
       "      <td>0</td>\n",
       "    </tr>\n",
       "  </tbody>\n",
       "</table>\n",
       "</div>"
      ],
      "text/plain": [
       "      CreditScore  Age  Tenure    Balance  NumOfProducts  HasCrCard  \\\n",
       "7479          567   35     8.0  153137.74              1          1   \n",
       "3411          711   37     8.0  113899.92              1          0   \n",
       "6027          850   44     3.0  140393.65              2          0   \n",
       "1247          512   24     6.0       0.00              2          1   \n",
       "3716          665   27     2.0  147435.96              1          0   \n",
       "\n",
       "      IsActiveMember  EstimatedSalary  Geography_Germany  Geography_Spain  \\\n",
       "7479               0         88659.07                  0                1   \n",
       "3411               0         80215.20                  0                0   \n",
       "6027               1        186285.52                  1                0   \n",
       "1247               0         37654.31                  0                0   \n",
       "3716               0        187508.06                  1                0   \n",
       "\n",
       "      Gender_Male  \n",
       "7479            1  \n",
       "3411            0  \n",
       "6027            1  \n",
       "1247            1  \n",
       "3716            0  "
      ]
     },
     "execution_count": 11,
     "metadata": {},
     "output_type": "execute_result"
    }
   ],
   "source": [
    "# выведем первые строки таблицы\n",
    "features_train.head()"
   ]
  },
  {
   "cell_type": "code",
   "execution_count": 12,
   "metadata": {},
   "outputs": [],
   "source": [
    "features_valid = pd.get_dummies(features_valid, drop_first=True)"
   ]
  },
  {
   "cell_type": "code",
   "execution_count": 13,
   "metadata": {},
   "outputs": [],
   "source": [
    "features_test = pd.get_dummies(features_test, drop_first=True)"
   ]
  },
  {
   "cell_type": "code",
   "execution_count": 14,
   "metadata": {},
   "outputs": [
    {
     "name": "stdout",
     "output_type": "stream",
     "text": [
      "(6000,)\n",
      "(2000,)\n",
      "(2000,)\n",
      "(6000, 11)\n",
      "(2000, 11)\n",
      "(2000, 11)\n"
     ]
    }
   ],
   "source": [
    "print(target_train.shape)\n",
    "print(target_valid.shape)\n",
    "print(target_test.shape)\n",
    "print(features_train.shape)\n",
    "print(features_valid.shape)\n",
    "print(features_test.shape)"
   ]
  },
  {
   "cell_type": "code",
   "execution_count": 15,
   "metadata": {},
   "outputs": [
    {
     "data": {
      "text/html": [
       "<div>\n",
       "<style scoped>\n",
       "    .dataframe tbody tr th:only-of-type {\n",
       "        vertical-align: middle;\n",
       "    }\n",
       "\n",
       "    .dataframe tbody tr th {\n",
       "        vertical-align: top;\n",
       "    }\n",
       "\n",
       "    .dataframe thead th {\n",
       "        text-align: right;\n",
       "    }\n",
       "</style>\n",
       "<table border=\"1\" class=\"dataframe\">\n",
       "  <thead>\n",
       "    <tr style=\"text-align: right;\">\n",
       "      <th></th>\n",
       "      <th>CreditScore</th>\n",
       "      <th>Age</th>\n",
       "      <th>Tenure</th>\n",
       "      <th>Balance</th>\n",
       "      <th>NumOfProducts</th>\n",
       "      <th>HasCrCard</th>\n",
       "      <th>IsActiveMember</th>\n",
       "      <th>EstimatedSalary</th>\n",
       "      <th>Geography_Germany</th>\n",
       "      <th>Geography_Spain</th>\n",
       "      <th>Gender_Male</th>\n",
       "    </tr>\n",
       "  </thead>\n",
       "  <tbody>\n",
       "    <tr>\n",
       "      <th>7479</th>\n",
       "      <td>-0.886751</td>\n",
       "      <td>-0.373192</td>\n",
       "      <td>1.082277</td>\n",
       "      <td>1.232271</td>\n",
       "      <td>1</td>\n",
       "      <td>1</td>\n",
       "      <td>0</td>\n",
       "      <td>-0.187705</td>\n",
       "      <td>0</td>\n",
       "      <td>1</td>\n",
       "      <td>1</td>\n",
       "    </tr>\n",
       "    <tr>\n",
       "      <th>3411</th>\n",
       "      <td>0.608663</td>\n",
       "      <td>-0.183385</td>\n",
       "      <td>1.082277</td>\n",
       "      <td>0.600563</td>\n",
       "      <td>1</td>\n",
       "      <td>0</td>\n",
       "      <td>0</td>\n",
       "      <td>-0.333945</td>\n",
       "      <td>0</td>\n",
       "      <td>0</td>\n",
       "      <td>0</td>\n",
       "    </tr>\n",
       "    <tr>\n",
       "      <th>6027</th>\n",
       "      <td>2.052152</td>\n",
       "      <td>0.480939</td>\n",
       "      <td>-0.737696</td>\n",
       "      <td>1.027098</td>\n",
       "      <td>2</td>\n",
       "      <td>0</td>\n",
       "      <td>1</td>\n",
       "      <td>1.503095</td>\n",
       "      <td>1</td>\n",
       "      <td>0</td>\n",
       "      <td>1</td>\n",
       "    </tr>\n",
       "    <tr>\n",
       "      <th>1247</th>\n",
       "      <td>-1.457915</td>\n",
       "      <td>-1.417129</td>\n",
       "      <td>0.354288</td>\n",
       "      <td>-1.233163</td>\n",
       "      <td>2</td>\n",
       "      <td>1</td>\n",
       "      <td>0</td>\n",
       "      <td>-1.071061</td>\n",
       "      <td>0</td>\n",
       "      <td>0</td>\n",
       "      <td>1</td>\n",
       "    </tr>\n",
       "    <tr>\n",
       "      <th>3716</th>\n",
       "      <td>0.130961</td>\n",
       "      <td>-1.132419</td>\n",
       "      <td>-1.101690</td>\n",
       "      <td>1.140475</td>\n",
       "      <td>1</td>\n",
       "      <td>0</td>\n",
       "      <td>0</td>\n",
       "      <td>1.524268</td>\n",
       "      <td>1</td>\n",
       "      <td>0</td>\n",
       "      <td>0</td>\n",
       "    </tr>\n",
       "  </tbody>\n",
       "</table>\n",
       "</div>"
      ],
      "text/plain": [
       "      CreditScore       Age    Tenure   Balance  NumOfProducts  HasCrCard  \\\n",
       "7479    -0.886751 -0.373192  1.082277  1.232271              1          1   \n",
       "3411     0.608663 -0.183385  1.082277  0.600563              1          0   \n",
       "6027     2.052152  0.480939 -0.737696  1.027098              2          0   \n",
       "1247    -1.457915 -1.417129  0.354288 -1.233163              2          1   \n",
       "3716     0.130961 -1.132419 -1.101690  1.140475              1          0   \n",
       "\n",
       "      IsActiveMember  EstimatedSalary  Geography_Germany  Geography_Spain  \\\n",
       "7479               0        -0.187705                  0                1   \n",
       "3411               0        -0.333945                  0                0   \n",
       "6027               1         1.503095                  1                0   \n",
       "1247               0        -1.071061                  0                0   \n",
       "3716               0         1.524268                  1                0   \n",
       "\n",
       "      Gender_Male  \n",
       "7479            1  \n",
       "3411            0  \n",
       "6027            1  \n",
       "1247            1  \n",
       "3716            0  "
      ]
     },
     "execution_count": 15,
     "metadata": {},
     "output_type": "execute_result"
    }
   ],
   "source": [
    "# приведем количественные признаки с разным масштабом CreditScore, Age, Tenure, Balance и EstimatedSalary к одному масштабу методом стандартизации\n",
    "scaler = StandardScaler()\n",
    "numeric = ['CreditScore', 'Age', 'Tenure', 'Balance', 'EstimatedSalary']\n",
    "scaler.fit(features_train[numeric])\n",
    "features_train[numeric] = scaler.transform(features_train[numeric])\n",
    "features_train.head()"
   ]
  },
  {
   "cell_type": "code",
   "execution_count": 16,
   "metadata": {},
   "outputs": [],
   "source": [
    "features_valid[numeric] = scaler.transform(features_valid[numeric])\n",
    "features_test[numeric] = scaler.transform(features_test[numeric])"
   ]
  },
  {
   "cell_type": "markdown",
   "metadata": {},
   "source": [
    "Данные разделены на обучающую, валидационную и тестовую выборки в соотношении 3:1:1. Тип данных из категориальных изменен на количественный, а количественные данные с разным масштабом масштабированы."
   ]
  },
  {
   "cell_type": "code",
   "execution_count": 17,
   "metadata": {},
   "outputs": [
    {
     "name": "stdout",
     "output_type": "stream",
     "text": [
      "0    0.7963\n",
      "1    0.2037\n",
      "Name: Exited, dtype: float64\n"
     ]
    },
    {
     "data": {
      "image/png": "[encoded data removed]",
      "text/plain": [
       "<Figure size 432x288 with 1 Axes>"
      ]
     },
     "metadata": {},
     "output_type": "display_data"
    }
   ],
   "source": [
    "# проверим, как часто в целевом признаке встречается класс «1» или «0»\n",
    "class_frequency = target.value_counts(normalize=True)\n",
    "print(class_frequency)\n",
    "class_frequency.plot(kind='pie', y = \"Exited\",\n",
    "                                       label = \"Exited\",\n",
    "                                       autopct='%1.1f%%')\n",
    "plt.show()"
   ]
  },
  {
   "cell_type": "markdown",
   "metadata": {},
   "source": [
    "Соотношение классов примерно 4 к 1, следовательно классы несбалансированы."
   ]
  },
  {
   "cell_type": "markdown",
   "metadata": {},
   "source": [
    "Обучим модели без учета дисбаланса и оценим метрику f1."
   ]
  },
  {
   "cell_type": "code",
   "execution_count": 18,
   "metadata": {},
   "outputs": [
    {
     "name": "stdout",
     "output_type": "stream",
     "text": [
      "F1: 0.33108108108108103\n"
     ]
    }
   ],
   "source": [
    "model = LogisticRegression(random_state=12345, solver='liblinear')\n",
    "model.fit(features_train, target_train)\n",
    "predicted_valid = model.predict(features_valid)\n",
    "print(\"F1:\", f1_score(target_valid, predicted_valid))"
   ]
  },
  {
   "cell_type": "markdown",
   "metadata": {},
   "source": [
    "\n",
    "Для моделей решающее дерево и случайный лес подберем гиперпараметры."
   ]
  },
  {
   "cell_type": "code",
   "execution_count": 19,
   "metadata": {},
   "outputs": [
    {
     "name": "stdout",
     "output_type": "stream",
     "text": [
      "max_depth =  10 F1: 0.5696969696969697\n"
     ]
    }
   ],
   "source": [
    "best_model = None\n",
    "best_result = 0\n",
    "for depth in range(1, 11):\n",
    "    model = DecisionTreeClassifier(max_depth=depth, random_state=12345)\n",
    "    model.fit(features_train, target_train)\n",
    "    predicted_valid = model.predict(features_valid)\n",
    "    result = f1_score(target_valid, predicted_valid)\n",
    "    if result > best_result:\n",
    "        best_model = model\n",
    "        best_result = result\n",
    "\n",
    "print(\"max_depth = \", depth, \"F1:\", best_result)"
   ]
  },
  {
   "cell_type": "code",
   "execution_count": 20,
   "metadata": {},
   "outputs": [
    {
     "name": "stdout",
     "output_type": "stream",
     "text": [
      "n_estimators =  100 max_depth =  10 F1: 0.5891238670694864\n"
     ]
    }
   ],
   "source": [
    "best_model = None\n",
    "best_result = 0\n",
    "best_est = 0\n",
    "best_depth = 0\n",
    "for est in range(10, 101, 10):\n",
    "    for depth in range (1, 11):\n",
    "        model = RandomForestClassifier(n_estimators=est, max_depth=depth, random_state=12345)\n",
    "        model.fit(features_train, target_train)\n",
    "        predicted_valid = model.predict(features_valid)\n",
    "        result = f1_score(target_valid, predicted_valid)\n",
    "        if result > best_result:\n",
    "            best_model = model\n",
    "            best_result = result\n",
    "            best_est = est\n",
    "            best_depth = depth\n",
    "\n",
    "print(\"n_estimators = \", est,\"max_depth = \", depth, \"F1:\", best_result)"
   ]
  },
  {
   "cell_type": "markdown",
   "metadata": {},
   "source": [
    "Наилучший результат показала модель случайный лес с гиперпараметрами n_estimators 100 и max_depth 10. "
   ]
  },
  {
   "cell_type": "markdown",
   "metadata": {},
   "source": [
    "## Борьба с дисбалансом"
   ]
  },
  {
   "cell_type": "markdown",
   "metadata": {},
   "source": [
    "Ранее мы выяснили, что соотношение классов примерно 4 к 1, следовательно классы несбалансированы."
   ]
  },
  {
   "cell_type": "markdown",
   "metadata": {},
   "source": [
    "Улучшим модели с учетом дисбаланса. Взвесим класссы, сначала применив технику upsampling, т.е. сделаем объекты редкого класса не такими редкими."
   ]
  },
  {
   "cell_type": "code",
   "execution_count": 21,
   "metadata": {},
   "outputs": [],
   "source": [
    "features_zeros = features_train[target_train == 0] \n",
    "features_ones = features_train[target_train == 1]\n",
    "target_zeros = target_train[target_train == 0]\n",
    "target_ones = target_train[target_train == 1]"
   ]
  },
  {
   "cell_type": "code",
   "execution_count": 22,
   "metadata": {},
   "outputs": [
    {
     "name": "stdout",
     "output_type": "stream",
     "text": [
      "(4804, 11)\n",
      "(1196, 11)\n",
      "(4804,)\n",
      "(1196,)\n"
     ]
    }
   ],
   "source": [
    "print(features_zeros.shape)\n",
    "print(features_ones.shape)\n",
    "print(target_zeros.shape)\n",
    "print(target_ones.shape)"
   ]
  },
  {
   "cell_type": "code",
   "execution_count": 23,
   "metadata": {},
   "outputs": [
    {
     "name": "stdout",
     "output_type": "stream",
     "text": [
      "(9608, 11)\n",
      "(9608,)\n"
     ]
    }
   ],
   "source": [
    "features_ones_upsampled = resample(features_ones,\n",
    "             replace=True,\n",
    "             n_samples=len(features_zeros),\n",
    "             random_state=12345)\n",
    "features_upsampled = pd.concat([features_ones_upsampled, features_zeros])\n",
    "target_ones_upsampled = resample(target_ones,\n",
    "             replace=True,\n",
    "             n_samples=len(target_zeros),\n",
    "             random_state=12345)\n",
    "target_upsampled = pd.concat([target_ones_upsampled, target_zeros])\n",
    "print(features_upsampled.shape)\n",
    "print(target_upsampled.shape)"
   ]
  },
  {
   "cell_type": "code",
   "execution_count": 24,
   "metadata": {},
   "outputs": [
    {
     "data": {
      "text/plain": [
       "0    4804\n",
       "1    4804\n",
       "Name: Exited, dtype: int64"
      ]
     },
     "execution_count": 24,
     "metadata": {},
     "output_type": "execute_result"
    }
   ],
   "source": [
    "target_upsampled.value_counts()"
   ]
  },
  {
   "cell_type": "code",
   "execution_count": 25,
   "metadata": {},
   "outputs": [
    {
     "name": "stdout",
     "output_type": "stream",
     "text": [
      "0    0.5\n",
      "1    0.5\n",
      "Name: Exited, dtype: float64\n"
     ]
    },
    {
     "data": {
      "image/png": "[encoded data removed]",
      "text/plain": [
       "<Figure size 432x288 with 1 Axes>"
      ]
     },
     "metadata": {},
     "output_type": "display_data"
    }
   ],
   "source": [
    "class_frequency = target_upsampled.value_counts(normalize=True)\n",
    "print(class_frequency)\n",
    "class_frequency.plot(kind='pie', y = \"Exited\",\n",
    "                                       label = \"Exited\",\n",
    "                                       autopct='%1.1f%%')\n",
    "plt.show()"
   ]
  },
  {
   "cell_type": "markdown",
   "metadata": {},
   "source": [
    "Классы сбалансированы."
   ]
  },
  {
   "cell_type": "markdown",
   "metadata": {},
   "source": [
    "Обучим модели с учетом дисбаланса и оценим метрику f1."
   ]
  },
  {
   "cell_type": "code",
   "execution_count": 26,
   "metadata": {},
   "outputs": [
    {
     "name": "stdout",
     "output_type": "stream",
     "text": [
      "F1: 0.4888507718696398\n"
     ]
    }
   ],
   "source": [
    "model = LogisticRegression(random_state=12345, solver='liblinear')\n",
    "model.fit(features_upsampled, target_upsampled)\n",
    "predicted_valid = model.predict(features_valid)\n",
    "print(\"F1:\", f1_score(target_valid, predicted_valid))"
   ]
  },
  {
   "cell_type": "markdown",
   "metadata": {},
   "source": [
    "\n",
    "Для моделей решающее дерево и случайный лес подберем гиперпараметры."
   ]
  },
  {
   "cell_type": "code",
   "execution_count": 27,
   "metadata": {},
   "outputs": [
    {
     "name": "stdout",
     "output_type": "stream",
     "text": [
      "max_depth =  10 F1: 0.5862412761714855\n"
     ]
    }
   ],
   "source": [
    "best_model = None\n",
    "best_result = 0\n",
    "for depth in range(1, 11):\n",
    "    model = DecisionTreeClassifier(max_depth=depth, random_state=12345)\n",
    "    model.fit(features_upsampled, target_upsampled)\n",
    "    predicted_valid = model.predict(features_valid)\n",
    "    result = f1_score(target_valid, predicted_valid)\n",
    "    if result > best_result:\n",
    "        best_model = model\n",
    "        best_result = result\n",
    "\n",
    "print(\"max_depth = \", depth, \"F1:\", best_result)"
   ]
  },
  {
   "cell_type": "code",
   "execution_count": 28,
   "metadata": {},
   "outputs": [
    {
     "name": "stdout",
     "output_type": "stream",
     "text": [
      "n_estimators =  100 max_depth =  10 F1: 0.629086809470124\n"
     ]
    }
   ],
   "source": [
    "best_model = None\n",
    "best_result = 0\n",
    "best_est = 0\n",
    "best_depth = 0\n",
    "for est in range(10, 101, 10):\n",
    "    for depth in range (1, 11):\n",
    "        model = RandomForestClassifier(n_estimators=est, max_depth=depth, random_state=12345)\n",
    "        model.fit(features_upsampled, target_upsampled)\n",
    "        predicted_valid = model.predict(features_valid)\n",
    "        result = f1_score(target_valid, predicted_valid)\n",
    "        if result > best_result:\n",
    "            best_model = model\n",
    "            best_result = result\n",
    "            best_est = est\n",
    "            best_depth = depth\n",
    "\n",
    "print(\"n_estimators = \", est,\"max_depth = \", depth, \"F1:\", best_result)"
   ]
  },
  {
   "cell_type": "markdown",
   "metadata": {},
   "source": [
    "Наилучший результат также показала модель случайный лес с гиперпараметрами n_estimators 100 и max_depth 10. Далее применим технику downsampling, т.е. сделаем объекты частого класса не такими частыми."
   ]
  },
  {
   "cell_type": "code",
   "execution_count": 29,
   "metadata": {},
   "outputs": [
    {
     "name": "stdout",
     "output_type": "stream",
     "text": [
      "(2392, 11)\n",
      "(2392,)\n"
     ]
    }
   ],
   "source": [
    "features_zeros_downsampled = resample(features_zeros,\n",
    "             replace=True,\n",
    "             n_samples=len(features_ones),\n",
    "             random_state=12345)\n",
    "features_downsampled = pd.concat([features_zeros_downsampled, features_ones])\n",
    "target_zeros_downsampled = resample(target_zeros,\n",
    "             replace=True,\n",
    "             n_samples=len(target_ones),\n",
    "             random_state=12345)\n",
    "target_downsampled = pd.concat([target_zeros_downsampled, target_ones])\n",
    "print(features_downsampled.shape)\n",
    "print(target_downsampled.shape)"
   ]
  },
  {
   "cell_type": "code",
   "execution_count": 31,
   "metadata": {},
   "outputs": [
    {
     "data": {
      "text/plain": [
       "0    1196\n",
       "1    1196\n",
       "Name: Exited, dtype: int64"
      ]
     },
     "execution_count": 31,
     "metadata": {},
     "output_type": "execute_result"
    }
   ],
   "source": [
    "target_downsampled.value_counts()"
   ]
  },
  {
   "cell_type": "code",
   "execution_count": 32,
   "metadata": {},
   "outputs": [
    {
     "name": "stdout",
     "output_type": "stream",
     "text": [
      "0    0.5\n",
      "1    0.5\n",
      "Name: Exited, dtype: float64\n"
     ]
    },
    {
     "data": {
      "image/png": "[encoded data removed]",
      "text/plain": [
       "<Figure size 432x288 with 1 Axes>"
      ]
     },
     "metadata": {},
     "output_type": "display_data"
    }
   ],
   "source": [
    "class_frequency = target_downsampled.value_counts(normalize=True)\n",
    "print(class_frequency)\n",
    "class_frequency.plot(kind='pie', y = \"Exited\",\n",
    "                                       label = \"Exited\",\n",
    "                                       autopct='%1.1f%%')\n",
    "plt.show()"
   ]
  },
  {
   "cell_type": "markdown",
   "metadata": {},
   "source": [
    "Классы сбалансированы."
   ]
  },
  {
   "cell_type": "code",
   "execution_count": 34,
   "metadata": {},
   "outputs": [
    {
     "name": "stdout",
     "output_type": "stream",
     "text": [
      "max_depth =  10 F1: 0.5659690627843494\n"
     ]
    }
   ],
   "source": [
    "best_model = None\n",
    "best_result = 0\n",
    "for depth in range(1, 11):\n",
    "    model = DecisionTreeClassifier(max_depth=depth, random_state=12345)\n",
    "    model.fit(features_downsampled, target_downsampled)\n",
    "    predicted_valid = model.predict(features_valid)\n",
    "    result = f1_score(target_valid, predicted_valid)\n",
    "    if result > best_result:\n",
    "        best_model = model\n",
    "        best_result = result\n",
    "\n",
    "print(\"max_depth = \", depth, \"F1:\", best_result)"
   ]
  },
  {
   "cell_type": "code",
   "execution_count": 35,
   "metadata": {},
   "outputs": [
    {
     "name": "stdout",
     "output_type": "stream",
     "text": [
      "n_estimators =  100 max_depth =  10 F1: 0.6042632066728453\n"
     ]
    }
   ],
   "source": [
    "best_model = None\n",
    "best_result = 0\n",
    "best_est = 0\n",
    "best_depth = 0\n",
    "for est in range(10, 101, 10):\n",
    "    for depth in range (1, 11):\n",
    "        model = RandomForestClassifier(n_estimators=est, max_depth=depth, random_state=12345)\n",
    "        model.fit(features_downsampled, target_downsampled)\n",
    "        predicted_valid = model.predict(features_valid)\n",
    "        result = f1_score(target_valid, predicted_valid)\n",
    "        if result > best_result:\n",
    "            best_model = model\n",
    "            best_result = result\n",
    "            best_est = est\n",
    "            best_depth = depth\n",
    "\n",
    "print(\"n_estimators = \", est,\"max_depth = \", depth, \"F1:\", best_result)"
   ]
  },
  {
   "cell_type": "markdown",
   "metadata": {},
   "source": [
    "Наилучший результат также показала модель случайный лес с гиперпараметрами n_estimators 100 и max_depth 10. "
   ]
  },
  {
   "cell_type": "markdown",
   "metadata": {},
   "source": [
    "## Тестирование модели"
   ]
  },
  {
   "cell_type": "markdown",
   "metadata": {},
   "source": [
    "Проведем финальное тестирование на тестовой выборке при помощи модели случайный лес, показавшей наилучший результат в ходе эксперементов, при этом сбалансируем веса классов с помощью техники upsampling."
   ]
  },
  {
   "cell_type": "code",
   "execution_count": 36,
   "metadata": {},
   "outputs": [
    {
     "name": "stdout",
     "output_type": "stream",
     "text": [
      "F1: 0.6238938053097346\n"
     ]
    }
   ],
   "source": [
    "model = RandomForestClassifier(n_estimators=100, max_depth=10, random_state=12345)\n",
    "model.fit(features_upsampled, target_upsampled)\n",
    "predicted_test = model.predict(features_test)\n",
    "print(\"F1:\", f1_score(target_test, predicted_test))"
   ]
  },
  {
   "cell_type": "markdown",
   "metadata": {},
   "source": [
    "Построим ROC-кривую случайной модели и обученной нами модели."
   ]
  },
  {
   "cell_type": "code",
   "execution_count": 37,
   "metadata": {},
   "outputs": [
    {
     "data": {
      "image/png": "[encoded data removed]",
      "text/plain": [
       "<Figure size 432x432 with 1 Axes>"
      ]
     },
     "metadata": {
      "needs_background": "light"
     },
     "output_type": "display_data"
    }
   ],
   "source": [
    "probabilities_test = model.predict_proba(features_test)\n",
    "probabilities_one_test = probabilities_test[:, 1]\n",
    "\n",
    "fpr, tpr, thresholds = roc_curve(target_test, probabilities_one_test)\n",
    "\n",
    "plt.figure(figsize=(6, 6))\n",
    "plt.plot(fpr, tpr)\n",
    "# ROC-кривая случайной модели\n",
    "plt.plot([0, 1], [0, 1], linestyle='--')\n",
    "\n",
    "plt.ylim([0, 1])\n",
    "plt.xlim([0, 1])\n",
    "\n",
    "plt.xlabel('False Positive Rate')\n",
    "plt.ylabel('True Positive Rate')\n",
    "\n",
    "plt.title('ROC-кривая')\n",
    "plt.show()\n"
   ]
  },
  {
   "cell_type": "markdown",
   "metadata": {},
   "source": [
    "Чем выше график ROC-кривой, тем больше значение TPR(доля истинно положительных) и лучше качество модели. Далее посчитаем площадь под ROC-кривой — AUC-ROC, чтобы выявить, как сильно наша модель отличается от случайной."
   ]
  },
  {
   "cell_type": "code",
   "execution_count": 38,
   "metadata": {},
   "outputs": [
    {
     "name": "stdout",
     "output_type": "stream",
     "text": [
      "0.8569972311792896\n"
     ]
    }
   ],
   "source": [
    "print(roc_auc_score(target_test, probabilities_one_test))"
   ]
  },
  {
   "cell_type": "markdown",
   "metadata": {},
   "source": [
    "Полученный результат AUC-ROC нашей модели значительно больше AUC-ROC случайной модели."
   ]
  },
  {
   "cell_type": "markdown",
   "metadata": {},
   "source": [
    "Проведенное исследование показало, что подобранная нами модель на основе алгоритма случайный лес показала высокие метрики качества: F1 более 0,59 и AUC-ROC более 0,85. "
   ]
  },
  {
   "cell_type": "code",
   "execution_count": null,
   "metadata": {},
   "outputs": [],
   "source": []
  }
 ],
 "metadata": {
  "ExecuteTimeLog": [
   {
    "duration": 515,
    "start_time": "2022-11-22T18:06:51.974Z"
   },
   {
    "duration": 75,
    "start_time": "2022-11-22T18:07:13.059Z"
   },
   {
    "duration": 58,
    "start_time": "2022-11-22T18:07:27.187Z"
   },
   {
    "duration": 47,
    "start_time": "2022-11-22T18:07:41.684Z"
   },
   {
    "duration": 46,
    "start_time": "2022-11-22T18:07:53.577Z"
   },
   {
    "duration": 55,
    "start_time": "2022-11-22T18:08:01.757Z"
   },
   {
    "duration": 70,
    "start_time": "2022-11-22T18:08:32.562Z"
   },
   {
    "duration": 60,
    "start_time": "2022-11-22T18:08:49.472Z"
   },
   {
    "duration": 719,
    "start_time": "2022-11-22T18:12:53.451Z"
   },
   {
    "duration": 40,
    "start_time": "2022-11-22T18:15:54.869Z"
   },
   {
    "duration": 55,
    "start_time": "2022-11-22T18:16:39.945Z"
   },
   {
    "duration": 5,
    "start_time": "2022-11-22T18:16:43.755Z"
   },
   {
    "duration": 13,
    "start_time": "2022-11-22T18:19:10.653Z"
   },
   {
    "duration": 11,
    "start_time": "2022-11-22T18:23:38.903Z"
   },
   {
    "duration": 8,
    "start_time": "2022-11-22T18:24:11.719Z"
   },
   {
    "duration": 80,
    "start_time": "2022-11-22T18:25:38.191Z"
   },
   {
    "duration": 40,
    "start_time": "2022-11-22T18:26:46.066Z"
   },
   {
    "duration": 44,
    "start_time": "2022-11-22T18:26:59.556Z"
   },
   {
    "duration": 48,
    "start_time": "2022-11-22T18:27:23.891Z"
   },
   {
    "duration": 5,
    "start_time": "2022-11-22T18:27:33.420Z"
   },
   {
    "duration": 42,
    "start_time": "2022-11-22T18:29:29.379Z"
   },
   {
    "duration": 7,
    "start_time": "2022-11-22T18:30:36.730Z"
   },
   {
    "duration": 4,
    "start_time": "2022-11-22T18:31:15.512Z"
   },
   {
    "duration": 4,
    "start_time": "2022-11-22T18:31:38.667Z"
   },
   {
    "duration": 1327,
    "start_time": "2022-11-23T08:20:20.487Z"
   },
   {
    "duration": 9,
    "start_time": "2022-11-23T08:20:21.815Z"
   },
   {
    "duration": 7,
    "start_time": "2022-11-23T08:20:21.825Z"
   },
   {
    "duration": 4,
    "start_time": "2022-11-23T08:23:44.971Z"
   },
   {
    "duration": 12,
    "start_time": "2022-11-23T08:26:42.006Z"
   },
   {
    "duration": 8,
    "start_time": "2022-11-23T08:27:10.641Z"
   },
   {
    "duration": 8,
    "start_time": "2022-11-23T08:27:22.715Z"
   },
   {
    "duration": 13,
    "start_time": "2022-11-23T08:28:49.541Z"
   },
   {
    "duration": 5,
    "start_time": "2022-11-23T08:29:17.559Z"
   },
   {
    "duration": 8,
    "start_time": "2022-11-23T08:29:20.301Z"
   },
   {
    "duration": 1192,
    "start_time": "2022-11-23T08:29:22.986Z"
   },
   {
    "duration": 1151,
    "start_time": "2022-11-23T08:29:29.339Z"
   },
   {
    "duration": 1177,
    "start_time": "2022-11-23T08:30:26.489Z"
   },
   {
    "duration": 7,
    "start_time": "2022-11-23T08:31:26.159Z"
   },
   {
    "duration": 7,
    "start_time": "2022-11-23T08:31:39.166Z"
   },
   {
    "duration": 7,
    "start_time": "2022-11-23T08:31:45.960Z"
   },
   {
    "duration": 6,
    "start_time": "2022-11-23T08:31:53.214Z"
   },
   {
    "duration": 7,
    "start_time": "2022-11-23T08:31:55.329Z"
   },
   {
    "duration": 1056,
    "start_time": "2022-11-23T08:32:08.450Z"
   },
   {
    "duration": 8,
    "start_time": "2022-11-23T08:32:09.508Z"
   },
   {
    "duration": 4,
    "start_time": "2022-11-23T08:32:09.518Z"
   },
   {
    "duration": 191,
    "start_time": "2022-11-23T08:32:09.524Z"
   },
   {
    "duration": 21,
    "start_time": "2022-11-23T08:32:09.716Z"
   },
   {
    "duration": 10,
    "start_time": "2022-11-23T08:37:17.699Z"
   },
   {
    "duration": 5,
    "start_time": "2022-11-23T08:39:19.967Z"
   },
   {
    "duration": 14,
    "start_time": "2022-11-23T08:39:34.875Z"
   },
   {
    "duration": 13,
    "start_time": "2022-11-23T08:40:22.167Z"
   },
   {
    "duration": 4,
    "start_time": "2022-11-23T08:40:44.443Z"
   },
   {
    "duration": 11,
    "start_time": "2022-11-23T08:41:05.552Z"
   },
   {
    "duration": 11,
    "start_time": "2022-11-23T08:41:08.313Z"
   },
   {
    "duration": 12,
    "start_time": "2022-11-23T08:49:18.640Z"
   },
   {
    "duration": 64,
    "start_time": "2022-11-23T08:51:23.691Z"
   },
   {
    "duration": 45,
    "start_time": "2022-11-23T08:54:39.190Z"
   },
   {
    "duration": 3,
    "start_time": "2022-11-23T08:54:44.091Z"
   },
   {
    "duration": 3,
    "start_time": "2022-11-23T08:54:52.550Z"
   },
   {
    "duration": 39,
    "start_time": "2022-11-23T08:54:54.303Z"
   },
   {
    "duration": 3,
    "start_time": "2022-11-23T08:57:00.621Z"
   },
   {
    "duration": 2,
    "start_time": "2022-11-23T09:05:44.268Z"
   },
   {
    "duration": 3,
    "start_time": "2022-11-23T09:05:48.334Z"
   },
   {
    "duration": 96,
    "start_time": "2022-11-23T09:07:31.597Z"
   },
   {
    "duration": 10,
    "start_time": "2022-11-23T09:07:41.046Z"
   },
   {
    "duration": 1165,
    "start_time": "2022-11-23T09:09:10.199Z"
   },
   {
    "duration": 1214,
    "start_time": "2022-11-23T09:09:40.617Z"
   },
   {
    "duration": 24,
    "start_time": "2022-11-23T09:10:08.274Z"
   },
   {
    "duration": 23,
    "start_time": "2022-11-23T09:10:44.961Z"
   },
   {
    "duration": 22,
    "start_time": "2022-11-23T09:12:40.570Z"
   },
   {
    "duration": 8,
    "start_time": "2022-11-23T09:14:10.177Z"
   },
   {
    "duration": 10,
    "start_time": "2022-11-23T09:14:45.740Z"
   },
   {
    "duration": 42,
    "start_time": "2022-11-23T13:18:07.871Z"
   },
   {
    "duration": 1080,
    "start_time": "2022-11-23T13:18:19.925Z"
   },
   {
    "duration": 182,
    "start_time": "2022-11-23T13:18:21.007Z"
   },
   {
    "duration": 18,
    "start_time": "2022-11-23T13:18:21.191Z"
   },
   {
    "duration": 30,
    "start_time": "2022-11-23T13:18:21.211Z"
   },
   {
    "duration": 43,
    "start_time": "2022-11-23T13:18:21.242Z"
   },
   {
    "duration": 35,
    "start_time": "2022-11-23T13:18:21.286Z"
   },
   {
    "duration": 27,
    "start_time": "2022-11-23T13:18:21.323Z"
   },
   {
    "duration": 8,
    "start_time": "2022-11-23T13:18:21.351Z"
   },
   {
    "duration": 585,
    "start_time": "2022-11-23T13:18:21.361Z"
   },
   {
    "duration": 107,
    "start_time": "2022-11-23T13:19:06.295Z"
   },
   {
    "duration": 101,
    "start_time": "2022-11-23T13:19:13.188Z"
   },
   {
    "duration": 3,
    "start_time": "2022-11-23T13:21:44.445Z"
   },
   {
    "duration": 100,
    "start_time": "2022-11-23T13:21:59.501Z"
   },
   {
    "duration": 100,
    "start_time": "2022-11-23T13:23:00.390Z"
   },
   {
    "duration": 3,
    "start_time": "2022-11-23T13:31:45.957Z"
   },
   {
    "duration": 20,
    "start_time": "2022-11-23T13:35:32.965Z"
   },
   {
    "duration": 17,
    "start_time": "2022-11-23T13:35:59.230Z"
   },
   {
    "duration": 13,
    "start_time": "2022-11-23T13:36:51.188Z"
   },
   {
    "duration": 82,
    "start_time": "2022-11-23T13:36:56.452Z"
   },
   {
    "duration": 17,
    "start_time": "2022-11-23T13:38:34.629Z"
   },
   {
    "duration": 1301,
    "start_time": "2022-11-23T13:38:49.417Z"
   },
   {
    "duration": 49,
    "start_time": "2022-11-23T13:38:50.720Z"
   },
   {
    "duration": 12,
    "start_time": "2022-11-23T13:38:50.770Z"
   },
   {
    "duration": 17,
    "start_time": "2022-11-23T13:38:50.784Z"
   },
   {
    "duration": 22,
    "start_time": "2022-11-23T13:38:50.803Z"
   },
   {
    "duration": 40,
    "start_time": "2022-11-23T13:38:50.826Z"
   },
   {
    "duration": 22,
    "start_time": "2022-11-23T13:38:50.868Z"
   },
   {
    "duration": 61,
    "start_time": "2022-11-23T13:38:50.892Z"
   },
   {
    "duration": 10,
    "start_time": "2022-11-23T13:38:50.955Z"
   },
   {
    "duration": 160,
    "start_time": "2022-11-23T13:38:50.966Z"
   },
   {
    "duration": 115,
    "start_time": "2022-11-23T13:38:51.128Z"
   },
   {
    "duration": 17,
    "start_time": "2022-11-23T13:40:14.446Z"
   },
   {
    "duration": 7,
    "start_time": "2022-11-23T13:40:56.043Z"
   },
   {
    "duration": 98,
    "start_time": "2022-11-23T13:40:56.621Z"
   },
   {
    "duration": 16,
    "start_time": "2022-11-23T13:41:41.558Z"
   },
   {
    "duration": 8,
    "start_time": "2022-11-23T13:45:20.482Z"
   },
   {
    "duration": 13,
    "start_time": "2022-11-23T13:45:25.338Z"
   },
   {
    "duration": 10,
    "start_time": "2022-11-23T13:46:01.103Z"
   },
   {
    "duration": 10,
    "start_time": "2022-11-23T13:46:15.992Z"
   },
   {
    "duration": 13,
    "start_time": "2022-11-23T13:46:33.138Z"
   },
   {
    "duration": 9,
    "start_time": "2022-11-23T13:47:00.470Z"
   },
   {
    "duration": 9,
    "start_time": "2022-11-23T13:47:07.763Z"
   },
   {
    "duration": 10,
    "start_time": "2022-11-23T13:48:28.945Z"
   },
   {
    "duration": 3,
    "start_time": "2022-11-23T13:48:38.571Z"
   },
   {
    "duration": 48,
    "start_time": "2022-11-23T18:44:51.042Z"
   },
   {
    "duration": 1766,
    "start_time": "2022-11-23T18:44:58.984Z"
   },
   {
    "duration": 168,
    "start_time": "2022-11-23T18:45:00.752Z"
   },
   {
    "duration": 13,
    "start_time": "2022-11-23T18:45:00.922Z"
   },
   {
    "duration": 4,
    "start_time": "2022-11-23T18:45:00.937Z"
   },
   {
    "duration": 24,
    "start_time": "2022-11-23T18:45:00.943Z"
   },
   {
    "duration": 4,
    "start_time": "2022-11-23T18:45:00.969Z"
   },
   {
    "duration": 14,
    "start_time": "2022-11-23T18:45:00.974Z"
   },
   {
    "duration": 9,
    "start_time": "2022-11-23T18:45:00.990Z"
   },
   {
    "duration": 24,
    "start_time": "2022-11-23T18:45:01.001Z"
   },
   {
    "duration": 10,
    "start_time": "2022-11-23T18:45:01.028Z"
   },
   {
    "duration": 139,
    "start_time": "2022-11-23T18:45:01.040Z"
   },
   {
    "duration": 97,
    "start_time": "2022-11-23T18:45:01.181Z"
   },
   {
    "duration": 18,
    "start_time": "2022-11-23T18:45:22.993Z"
   },
   {
    "duration": 20,
    "start_time": "2022-11-23T18:45:42.823Z"
   },
   {
    "duration": 13,
    "start_time": "2022-11-23T18:45:47.704Z"
   },
   {
    "duration": 14,
    "start_time": "2022-11-23T18:48:18.082Z"
   },
   {
    "duration": 18,
    "start_time": "2022-11-23T18:48:20.014Z"
   },
   {
    "duration": 14,
    "start_time": "2022-11-23T18:48:36.439Z"
   },
   {
    "duration": 1245,
    "start_time": "2022-11-23T18:48:46.922Z"
   },
   {
    "duration": 46,
    "start_time": "2022-11-23T18:48:48.169Z"
   },
   {
    "duration": 12,
    "start_time": "2022-11-23T18:48:48.217Z"
   },
   {
    "duration": 12,
    "start_time": "2022-11-23T18:48:48.230Z"
   },
   {
    "duration": 14,
    "start_time": "2022-11-23T18:48:48.244Z"
   },
   {
    "duration": 3,
    "start_time": "2022-11-23T18:48:48.260Z"
   },
   {
    "duration": 11,
    "start_time": "2022-11-23T18:48:48.277Z"
   },
   {
    "duration": 14,
    "start_time": "2022-11-23T18:48:48.289Z"
   },
   {
    "duration": 24,
    "start_time": "2022-11-23T18:48:48.305Z"
   },
   {
    "duration": 8,
    "start_time": "2022-11-23T18:48:48.331Z"
   },
   {
    "duration": 129,
    "start_time": "2022-11-23T18:48:48.340Z"
   },
   {
    "duration": 101,
    "start_time": "2022-11-23T18:48:48.477Z"
   },
   {
    "duration": 10,
    "start_time": "2022-11-23T18:53:46.472Z"
   },
   {
    "duration": 14,
    "start_time": "2022-11-23T18:54:33.859Z"
   },
   {
    "duration": 7,
    "start_time": "2022-11-23T18:55:04.272Z"
   },
   {
    "duration": 6,
    "start_time": "2022-11-23T18:55:17.489Z"
   },
   {
    "duration": 6,
    "start_time": "2022-11-23T18:55:38.459Z"
   },
   {
    "duration": 1502,
    "start_time": "2022-11-24T16:30:46.605Z"
   },
   {
    "duration": 164,
    "start_time": "2022-11-24T16:30:48.109Z"
   },
   {
    "duration": 15,
    "start_time": "2022-11-24T16:30:48.274Z"
   },
   {
    "duration": 18,
    "start_time": "2022-11-24T16:30:48.291Z"
   },
   {
    "duration": 14,
    "start_time": "2022-11-24T16:30:48.311Z"
   },
   {
    "duration": 4,
    "start_time": "2022-11-24T16:30:48.327Z"
   },
   {
    "duration": 13,
    "start_time": "2022-11-24T16:30:48.332Z"
   },
   {
    "duration": 10,
    "start_time": "2022-11-24T16:30:48.347Z"
   },
   {
    "duration": 45,
    "start_time": "2022-11-24T16:30:48.359Z"
   },
   {
    "duration": 9,
    "start_time": "2022-11-24T16:30:48.406Z"
   },
   {
    "duration": 137,
    "start_time": "2022-11-24T16:30:48.417Z"
   },
   {
    "duration": 42,
    "start_time": "2022-11-24T16:30:48.556Z"
   },
   {
    "duration": 7,
    "start_time": "2022-11-24T16:36:18.429Z"
   },
   {
    "duration": 7,
    "start_time": "2022-11-24T16:36:20.722Z"
   },
   {
    "duration": 8,
    "start_time": "2022-11-24T16:36:26.349Z"
   },
   {
    "duration": 5,
    "start_time": "2022-11-24T16:37:54.525Z"
   },
   {
    "duration": 128,
    "start_time": "2022-11-24T16:38:42.096Z"
   },
   {
    "duration": 6,
    "start_time": "2022-11-24T16:38:46.855Z"
   },
   {
    "duration": 14,
    "start_time": "2022-11-24T16:38:49.144Z"
   },
   {
    "duration": 8,
    "start_time": "2022-11-24T16:39:27.910Z"
   },
   {
    "duration": 9,
    "start_time": "2022-11-24T16:39:29.094Z"
   },
   {
    "duration": 1438,
    "start_time": "2022-11-24T16:40:21.438Z"
   },
   {
    "duration": 74,
    "start_time": "2022-11-24T16:40:22.878Z"
   },
   {
    "duration": 14,
    "start_time": "2022-11-24T16:40:22.954Z"
   },
   {
    "duration": 17,
    "start_time": "2022-11-24T16:40:22.970Z"
   },
   {
    "duration": 38,
    "start_time": "2022-11-24T16:40:22.995Z"
   },
   {
    "duration": 117,
    "start_time": "2022-11-24T16:40:23.035Z"
   },
   {
    "duration": 0,
    "start_time": "2022-11-24T16:40:23.153Z"
   },
   {
    "duration": 0,
    "start_time": "2022-11-24T16:40:23.154Z"
   },
   {
    "duration": 0,
    "start_time": "2022-11-24T16:40:23.155Z"
   },
   {
    "duration": 0,
    "start_time": "2022-11-24T16:40:23.156Z"
   },
   {
    "duration": 0,
    "start_time": "2022-11-24T16:40:23.157Z"
   },
   {
    "duration": 0,
    "start_time": "2022-11-24T16:40:23.158Z"
   },
   {
    "duration": 0,
    "start_time": "2022-11-24T16:40:23.159Z"
   },
   {
    "duration": 0,
    "start_time": "2022-11-24T16:40:23.160Z"
   },
   {
    "duration": 9,
    "start_time": "2022-11-24T16:41:25.776Z"
   },
   {
    "duration": 5,
    "start_time": "2022-11-24T16:41:28.833Z"
   },
   {
    "duration": 4,
    "start_time": "2022-11-24T16:41:30.140Z"
   },
   {
    "duration": 6,
    "start_time": "2022-11-24T16:42:04.010Z"
   },
   {
    "duration": 10,
    "start_time": "2022-11-24T16:43:58.494Z"
   },
   {
    "duration": 5,
    "start_time": "2022-11-24T16:43:59.017Z"
   },
   {
    "duration": 5,
    "start_time": "2022-11-24T16:43:59.524Z"
   },
   {
    "duration": 5,
    "start_time": "2022-11-24T16:44:10.692Z"
   },
   {
    "duration": 9,
    "start_time": "2022-11-24T16:46:29.831Z"
   },
   {
    "duration": 15,
    "start_time": "2022-11-24T16:46:40.901Z"
   },
   {
    "duration": 22,
    "start_time": "2022-11-24T16:47:25.527Z"
   },
   {
    "duration": 50,
    "start_time": "2022-11-26T18:47:40.670Z"
   },
   {
    "duration": 1504,
    "start_time": "2022-11-26T18:47:53.148Z"
   },
   {
    "duration": 159,
    "start_time": "2022-11-26T18:47:54.654Z"
   },
   {
    "duration": 11,
    "start_time": "2022-11-26T18:47:54.815Z"
   },
   {
    "duration": 8,
    "start_time": "2022-11-26T18:47:54.828Z"
   },
   {
    "duration": 14,
    "start_time": "2022-11-26T18:47:54.838Z"
   },
   {
    "duration": 8,
    "start_time": "2022-11-26T18:47:54.853Z"
   },
   {
    "duration": 6,
    "start_time": "2022-11-26T18:47:54.863Z"
   },
   {
    "duration": 7,
    "start_time": "2022-11-26T18:47:54.870Z"
   },
   {
    "duration": 11,
    "start_time": "2022-11-26T18:47:54.878Z"
   },
   {
    "duration": 36,
    "start_time": "2022-11-26T18:47:54.891Z"
   },
   {
    "duration": 17,
    "start_time": "2022-11-26T18:47:54.929Z"
   },
   {
    "duration": 50,
    "start_time": "2022-11-26T18:47:54.948Z"
   },
   {
    "duration": 118,
    "start_time": "2022-11-26T18:47:55.000Z"
   },
   {
    "duration": 0,
    "start_time": "2022-11-26T18:47:55.122Z"
   },
   {
    "duration": 4,
    "start_time": "2022-11-26T18:56:30.847Z"
   },
   {
    "duration": 16,
    "start_time": "2022-11-26T18:57:21.487Z"
   },
   {
    "duration": 17,
    "start_time": "2022-11-26T18:57:48.246Z"
   },
   {
    "duration": 9,
    "start_time": "2022-11-26T18:58:46.403Z"
   },
   {
    "duration": 8,
    "start_time": "2022-11-26T18:58:56.713Z"
   },
   {
    "duration": 6,
    "start_time": "2022-11-26T18:58:57.931Z"
   },
   {
    "duration": 29,
    "start_time": "2022-11-26T18:59:07.271Z"
   },
   {
    "duration": 43,
    "start_time": "2022-12-06T15:26:11.241Z"
   },
   {
    "duration": 1525,
    "start_time": "2022-12-06T15:26:21.976Z"
   },
   {
    "duration": 171,
    "start_time": "2022-12-06T15:26:23.503Z"
   },
   {
    "duration": 14,
    "start_time": "2022-12-06T15:26:23.675Z"
   },
   {
    "duration": 8,
    "start_time": "2022-12-06T15:26:23.691Z"
   },
   {
    "duration": 17,
    "start_time": "2022-12-06T15:26:23.700Z"
   },
   {
    "duration": 8,
    "start_time": "2022-12-06T15:26:23.718Z"
   },
   {
    "duration": 13,
    "start_time": "2022-12-06T15:26:23.728Z"
   },
   {
    "duration": 13,
    "start_time": "2022-12-06T15:26:23.743Z"
   },
   {
    "duration": 9,
    "start_time": "2022-12-06T15:26:23.757Z"
   },
   {
    "duration": 10,
    "start_time": "2022-12-06T15:26:23.768Z"
   },
   {
    "duration": 5,
    "start_time": "2022-12-06T15:26:23.780Z"
   },
   {
    "duration": 119,
    "start_time": "2022-12-06T15:26:23.786Z"
   },
   {
    "duration": 0,
    "start_time": "2022-12-06T15:26:23.906Z"
   },
   {
    "duration": 0,
    "start_time": "2022-12-06T15:26:23.907Z"
   },
   {
    "duration": 12,
    "start_time": "2022-12-06T15:26:35.571Z"
   },
   {
    "duration": 11,
    "start_time": "2022-12-06T15:26:41.645Z"
   },
   {
    "duration": 18,
    "start_time": "2022-12-06T15:26:47.671Z"
   },
   {
    "duration": 19,
    "start_time": "2022-12-06T15:26:52.649Z"
   },
   {
    "duration": 8,
    "start_time": "2022-12-06T16:23:39.042Z"
   },
   {
    "duration": 17,
    "start_time": "2022-12-06T16:23:57.860Z"
   },
   {
    "duration": 15,
    "start_time": "2022-12-06T16:24:53.245Z"
   },
   {
    "duration": 10,
    "start_time": "2022-12-06T16:24:54.491Z"
   },
   {
    "duration": 13,
    "start_time": "2022-12-06T16:25:04.424Z"
   },
   {
    "duration": 14,
    "start_time": "2022-12-06T16:25:14.996Z"
   },
   {
    "duration": 11,
    "start_time": "2022-12-06T16:25:23.789Z"
   },
   {
    "duration": 11,
    "start_time": "2022-12-06T16:25:27.051Z"
   },
   {
    "duration": 1310,
    "start_time": "2022-12-06T16:25:32.987Z"
   },
   {
    "duration": 43,
    "start_time": "2022-12-06T16:25:34.299Z"
   },
   {
    "duration": 12,
    "start_time": "2022-12-06T16:25:34.343Z"
   },
   {
    "duration": 7,
    "start_time": "2022-12-06T16:25:34.356Z"
   },
   {
    "duration": 17,
    "start_time": "2022-12-06T16:25:34.364Z"
   },
   {
    "duration": 3,
    "start_time": "2022-12-06T16:25:34.382Z"
   },
   {
    "duration": 11,
    "start_time": "2022-12-06T16:25:34.387Z"
   },
   {
    "duration": 13,
    "start_time": "2022-12-06T16:25:34.399Z"
   },
   {
    "duration": 9,
    "start_time": "2022-12-06T16:25:34.414Z"
   },
   {
    "duration": 4,
    "start_time": "2022-12-06T16:25:34.425Z"
   },
   {
    "duration": 4,
    "start_time": "2022-12-06T16:25:34.431Z"
   },
   {
    "duration": 122,
    "start_time": "2022-12-06T16:25:34.436Z"
   },
   {
    "duration": 0,
    "start_time": "2022-12-06T16:25:34.559Z"
   },
   {
    "duration": 0,
    "start_time": "2022-12-06T16:25:34.561Z"
   },
   {
    "duration": 0,
    "start_time": "2022-12-06T16:25:34.562Z"
   },
   {
    "duration": 23,
    "start_time": "2022-12-06T16:26:48.173Z"
   },
   {
    "duration": 13,
    "start_time": "2022-12-06T16:26:51.980Z"
   },
   {
    "duration": 15,
    "start_time": "2022-12-06T16:27:02.672Z"
   },
   {
    "duration": 14,
    "start_time": "2022-12-06T16:27:08.580Z"
   },
   {
    "duration": 118,
    "start_time": "2022-12-06T17:14:45.528Z"
   },
   {
    "duration": 33,
    "start_time": "2022-12-06T17:15:01.554Z"
   },
   {
    "duration": 36,
    "start_time": "2022-12-06T17:15:34.723Z"
   },
   {
    "duration": 29,
    "start_time": "2022-12-06T17:17:55.153Z"
   },
   {
    "duration": 11,
    "start_time": "2022-12-06T17:19:47.231Z"
   },
   {
    "duration": 1434,
    "start_time": "2022-12-06T17:20:22.626Z"
   },
   {
    "duration": 1333,
    "start_time": "2022-12-06T17:20:34.952Z"
   },
   {
    "duration": 46,
    "start_time": "2022-12-06T17:20:36.287Z"
   },
   {
    "duration": 11,
    "start_time": "2022-12-06T17:20:36.335Z"
   },
   {
    "duration": 8,
    "start_time": "2022-12-06T17:20:36.347Z"
   },
   {
    "duration": 12,
    "start_time": "2022-12-06T17:20:36.357Z"
   },
   {
    "duration": 4,
    "start_time": "2022-12-06T17:20:36.370Z"
   },
   {
    "duration": 29,
    "start_time": "2022-12-06T17:20:36.375Z"
   },
   {
    "duration": 13,
    "start_time": "2022-12-06T17:20:36.406Z"
   },
   {
    "duration": 10,
    "start_time": "2022-12-06T17:20:36.421Z"
   },
   {
    "duration": 5,
    "start_time": "2022-12-06T17:20:36.433Z"
   },
   {
    "duration": 5,
    "start_time": "2022-12-06T17:20:36.440Z"
   },
   {
    "duration": 22,
    "start_time": "2022-12-06T17:20:36.447Z"
   },
   {
    "duration": 46,
    "start_time": "2022-12-06T17:20:36.471Z"
   },
   {
    "duration": 138,
    "start_time": "2022-12-06T17:20:36.520Z"
   },
   {
    "duration": 55,
    "start_time": "2022-12-06T17:20:36.659Z"
   },
   {
    "duration": 136,
    "start_time": "2022-12-06T17:20:36.716Z"
   },
   {
    "duration": 1658,
    "start_time": "2022-12-06T17:20:36.854Z"
   },
   {
    "duration": 1444,
    "start_time": "2022-12-06T17:21:04.762Z"
   },
   {
    "duration": 715,
    "start_time": "2022-12-06T17:22:20.979Z"
   },
   {
    "duration": 1332,
    "start_time": "2022-12-06T17:22:38.609Z"
   },
   {
    "duration": 44,
    "start_time": "2022-12-06T17:22:39.943Z"
   },
   {
    "duration": 12,
    "start_time": "2022-12-06T17:22:39.989Z"
   },
   {
    "duration": 8,
    "start_time": "2022-12-06T17:22:40.003Z"
   },
   {
    "duration": 16,
    "start_time": "2022-12-06T17:22:40.013Z"
   },
   {
    "duration": 11,
    "start_time": "2022-12-06T17:22:40.030Z"
   },
   {
    "duration": 15,
    "start_time": "2022-12-06T17:22:40.043Z"
   },
   {
    "duration": 10,
    "start_time": "2022-12-06T17:22:40.060Z"
   },
   {
    "duration": 9,
    "start_time": "2022-12-06T17:22:40.072Z"
   },
   {
    "duration": 23,
    "start_time": "2022-12-06T17:22:40.083Z"
   },
   {
    "duration": 4,
    "start_time": "2022-12-06T17:22:40.108Z"
   },
   {
    "duration": 23,
    "start_time": "2022-12-06T17:22:40.113Z"
   },
   {
    "duration": 12,
    "start_time": "2022-12-06T17:22:40.137Z"
   },
   {
    "duration": 138,
    "start_time": "2022-12-06T17:22:40.151Z"
   },
   {
    "duration": 115,
    "start_time": "2022-12-06T17:22:40.290Z"
   },
   {
    "duration": 128,
    "start_time": "2022-12-06T17:22:40.407Z"
   },
   {
    "duration": 842,
    "start_time": "2022-12-06T17:22:40.537Z"
   },
   {
    "duration": 6,
    "start_time": "2022-12-06T17:31:16.538Z"
   },
   {
    "duration": 4,
    "start_time": "2022-12-06T17:31:48.569Z"
   },
   {
    "duration": 13,
    "start_time": "2022-12-06T17:33:04.420Z"
   },
   {
    "duration": 4,
    "start_time": "2022-12-06T17:33:51.751Z"
   },
   {
    "duration": 24,
    "start_time": "2022-12-06T17:35:02.321Z"
   },
   {
    "duration": 3,
    "start_time": "2022-12-06T17:35:26.489Z"
   },
   {
    "duration": 1300,
    "start_time": "2022-12-06T17:35:33.921Z"
   },
   {
    "duration": 45,
    "start_time": "2022-12-06T17:35:35.223Z"
   },
   {
    "duration": 12,
    "start_time": "2022-12-06T17:35:35.269Z"
   },
   {
    "duration": 8,
    "start_time": "2022-12-06T17:35:35.283Z"
   },
   {
    "duration": 24,
    "start_time": "2022-12-06T17:35:35.292Z"
   },
   {
    "duration": 5,
    "start_time": "2022-12-06T17:35:35.317Z"
   },
   {
    "duration": 40,
    "start_time": "2022-12-06T17:35:35.323Z"
   },
   {
    "duration": 19,
    "start_time": "2022-12-06T17:35:35.364Z"
   },
   {
    "duration": 42,
    "start_time": "2022-12-06T17:35:35.385Z"
   },
   {
    "duration": 22,
    "start_time": "2022-12-06T17:35:35.429Z"
   },
   {
    "duration": 17,
    "start_time": "2022-12-06T17:35:35.453Z"
   },
   {
    "duration": 32,
    "start_time": "2022-12-06T17:35:35.472Z"
   },
   {
    "duration": 12,
    "start_time": "2022-12-06T17:35:35.506Z"
   },
   {
    "duration": 141,
    "start_time": "2022-12-06T17:35:35.520Z"
   },
   {
    "duration": 42,
    "start_time": "2022-12-06T17:35:35.662Z"
   },
   {
    "duration": 107,
    "start_time": "2022-12-06T17:35:35.805Z"
   },
   {
    "duration": 9,
    "start_time": "2022-12-06T17:35:35.913Z"
   },
   {
    "duration": 32,
    "start_time": "2022-12-06T17:35:35.924Z"
   },
   {
    "duration": 30,
    "start_time": "2022-12-06T17:35:35.957Z"
   },
   {
    "duration": 38,
    "start_time": "2022-12-06T17:35:35.989Z"
   },
   {
    "duration": 83,
    "start_time": "2022-12-06T17:36:33.531Z"
   },
   {
    "duration": 72,
    "start_time": "2022-12-06T17:37:14.987Z"
   },
   {
    "duration": 16,
    "start_time": "2022-12-06T17:38:10.843Z"
   },
   {
    "duration": 28,
    "start_time": "2022-12-06T17:38:39.258Z"
   },
   {
    "duration": 15,
    "start_time": "2022-12-06T17:39:22.233Z"
   },
   {
    "duration": 29,
    "start_time": "2022-12-06T18:07:16.688Z"
   },
   {
    "duration": 43,
    "start_time": "2022-12-06T18:07:41.950Z"
   },
   {
    "duration": 13,
    "start_time": "2022-12-06T18:07:48.721Z"
   },
   {
    "duration": 4,
    "start_time": "2022-12-06T18:08:31.552Z"
   },
   {
    "duration": 565,
    "start_time": "2022-12-06T18:08:48.145Z"
   },
   {
    "duration": 541,
    "start_time": "2022-12-06T18:09:02.111Z"
   },
   {
    "duration": 1038,
    "start_time": "2022-12-06T18:09:37.304Z"
   },
   {
    "duration": 258,
    "start_time": "2022-12-06T18:10:07.946Z"
   },
   {
    "duration": 107,
    "start_time": "2022-12-06T18:12:44.498Z"
   },
   {
    "duration": 979,
    "start_time": "2022-12-06T18:13:39.758Z"
   },
   {
    "duration": 536,
    "start_time": "2022-12-06T18:14:09.610Z"
   },
   {
    "duration": 9,
    "start_time": "2022-12-06T18:14:35.221Z"
   },
   {
    "duration": 11,
    "start_time": "2022-12-06T18:14:47.282Z"
   },
   {
    "duration": 554,
    "start_time": "2022-12-06T18:14:52.737Z"
   },
   {
    "duration": 4,
    "start_time": "2022-12-06T18:16:52.145Z"
   },
   {
    "duration": 4,
    "start_time": "2022-12-06T18:17:10.998Z"
   },
   {
    "duration": 158,
    "start_time": "2022-12-06T18:22:43.322Z"
   },
   {
    "duration": 4,
    "start_time": "2022-12-06T18:23:53.888Z"
   },
   {
    "duration": 6,
    "start_time": "2022-12-06T18:27:00.558Z"
   },
   {
    "duration": 466,
    "start_time": "2022-12-06T18:42:59.991Z"
   },
   {
    "duration": 423,
    "start_time": "2022-12-06T18:43:23.348Z"
   },
   {
    "duration": 171,
    "start_time": "2022-12-06T18:43:30.023Z"
   },
   {
    "duration": 149,
    "start_time": "2022-12-06T18:44:33.043Z"
   },
   {
    "duration": 552,
    "start_time": "2022-12-06T18:45:01.240Z"
   },
   {
    "duration": 1301,
    "start_time": "2022-12-06T18:45:09.807Z"
   },
   {
    "duration": 47,
    "start_time": "2022-12-06T18:45:11.110Z"
   },
   {
    "duration": 11,
    "start_time": "2022-12-06T18:45:11.159Z"
   },
   {
    "duration": 21,
    "start_time": "2022-12-06T18:45:11.171Z"
   },
   {
    "duration": 19,
    "start_time": "2022-12-06T18:45:11.194Z"
   },
   {
    "duration": 14,
    "start_time": "2022-12-06T18:45:11.215Z"
   },
   {
    "duration": 27,
    "start_time": "2022-12-06T18:45:11.231Z"
   },
   {
    "duration": 24,
    "start_time": "2022-12-06T18:45:11.260Z"
   },
   {
    "duration": 31,
    "start_time": "2022-12-06T18:45:11.286Z"
   },
   {
    "duration": 7,
    "start_time": "2022-12-06T18:45:11.318Z"
   },
   {
    "duration": 36,
    "start_time": "2022-12-06T18:45:11.327Z"
   },
   {
    "duration": 46,
    "start_time": "2022-12-06T18:45:11.365Z"
   },
   {
    "duration": 12,
    "start_time": "2022-12-06T18:45:11.413Z"
   },
   {
    "duration": 126,
    "start_time": "2022-12-06T18:45:11.429Z"
   },
   {
    "duration": 50,
    "start_time": "2022-12-06T18:45:11.557Z"
   },
   {
    "duration": 300,
    "start_time": "2022-12-06T18:45:11.609Z"
   },
   {
    "duration": 548,
    "start_time": "2022-12-06T18:45:11.911Z"
   },
   {
    "duration": 6,
    "start_time": "2022-12-06T18:45:12.461Z"
   },
   {
    "duration": 37,
    "start_time": "2022-12-06T18:45:12.468Z"
   },
   {
    "duration": 48,
    "start_time": "2022-12-06T18:45:12.507Z"
   },
   {
    "duration": 30,
    "start_time": "2022-12-06T18:45:12.557Z"
   },
   {
    "duration": 73,
    "start_time": "2022-12-06T18:45:12.589Z"
   },
   {
    "duration": 133,
    "start_time": "2022-12-06T18:45:12.707Z"
   },
   {
    "duration": 1008,
    "start_time": "2022-12-06T18:45:12.842Z"
   },
   {
    "duration": 13,
    "start_time": "2022-12-06T18:45:13.851Z"
   },
   {
    "duration": 41,
    "start_time": "2022-12-06T18:45:13.865Z"
   },
   {
    "duration": 107,
    "start_time": "2022-12-06T18:45:13.908Z"
   },
   {
    "duration": 275,
    "start_time": "2022-12-06T18:45:14.017Z"
   },
   {
    "duration": 532,
    "start_time": "2022-12-06T18:45:14.293Z"
   },
   {
    "duration": 155,
    "start_time": "2022-12-06T18:45:14.827Z"
   },
   {
    "duration": 5,
    "start_time": "2022-12-06T18:45:14.984Z"
   },
   {
    "duration": 443,
    "start_time": "2022-12-06T18:45:32.168Z"
   },
   {
    "duration": 165,
    "start_time": "2022-12-06T18:45:40.092Z"
   },
   {
    "duration": 75,
    "start_time": "2022-12-06T18:49:39.896Z"
   },
   {
    "duration": 77,
    "start_time": "2022-12-06T18:50:00.932Z"
   },
   {
    "duration": 71,
    "start_time": "2022-12-06T18:50:47.215Z"
   },
   {
    "duration": 21146,
    "start_time": "2022-12-06T18:51:14.874Z"
   },
   {
    "duration": 1451,
    "start_time": "2022-12-06T18:51:48.168Z"
   },
   {
    "duration": 48,
    "start_time": "2022-12-06T18:51:49.622Z"
   },
   {
    "duration": 13,
    "start_time": "2022-12-06T18:51:49.672Z"
   },
   {
    "duration": 10,
    "start_time": "2022-12-06T18:51:49.688Z"
   },
   {
    "duration": 28,
    "start_time": "2022-12-06T18:51:49.700Z"
   },
   {
    "duration": 7,
    "start_time": "2022-12-06T18:51:49.730Z"
   },
   {
    "duration": 24,
    "start_time": "2022-12-06T18:51:49.739Z"
   },
   {
    "duration": 12,
    "start_time": "2022-12-06T18:51:49.764Z"
   },
   {
    "duration": 12,
    "start_time": "2022-12-06T18:51:49.777Z"
   },
   {
    "duration": 6,
    "start_time": "2022-12-06T18:51:49.792Z"
   },
   {
    "duration": 5,
    "start_time": "2022-12-06T18:51:49.803Z"
   },
   {
    "duration": 34,
    "start_time": "2022-12-06T18:51:49.811Z"
   },
   {
    "duration": 11,
    "start_time": "2022-12-06T18:51:49.847Z"
   },
   {
    "duration": 149,
    "start_time": "2022-12-06T18:51:49.860Z"
   },
   {
    "duration": 103,
    "start_time": "2022-12-06T18:51:50.011Z"
   },
   {
    "duration": 315,
    "start_time": "2022-12-06T18:51:50.117Z"
   },
   {
    "duration": 21776,
    "start_time": "2022-12-06T18:51:50.434Z"
   },
   {
    "duration": 10,
    "start_time": "2022-12-06T18:52:12.212Z"
   },
   {
    "duration": 10,
    "start_time": "2022-12-06T18:52:12.224Z"
   },
   {
    "duration": 14,
    "start_time": "2022-12-06T18:52:12.236Z"
   },
   {
    "duration": 17,
    "start_time": "2022-12-06T18:52:12.251Z"
   },
   {
    "duration": 143,
    "start_time": "2022-12-06T18:52:12.269Z"
   },
   {
    "duration": 144,
    "start_time": "2022-12-06T18:52:12.413Z"
   },
   {
    "duration": 1017,
    "start_time": "2022-12-06T18:52:12.559Z"
   },
   {
    "duration": 12,
    "start_time": "2022-12-06T18:52:13.577Z"
   },
   {
    "duration": 26,
    "start_time": "2022-12-06T18:52:13.591Z"
   },
   {
    "duration": 186,
    "start_time": "2022-12-06T18:52:13.619Z"
   },
   {
    "duration": 253,
    "start_time": "2022-12-06T18:52:13.808Z"
   },
   {
    "duration": 532,
    "start_time": "2022-12-06T18:52:14.063Z"
   },
   {
    "duration": 154,
    "start_time": "2022-12-06T18:52:14.597Z"
   },
   {
    "duration": 6,
    "start_time": "2022-12-06T18:52:14.753Z"
   },
   {
    "duration": 21133,
    "start_time": "2022-12-06T18:52:57.893Z"
   },
   {
    "duration": 1319,
    "start_time": "2022-12-06T18:54:00.523Z"
   },
   {
    "duration": 48,
    "start_time": "2022-12-06T18:54:01.844Z"
   },
   {
    "duration": 13,
    "start_time": "2022-12-06T18:54:01.893Z"
   },
   {
    "duration": 28,
    "start_time": "2022-12-06T18:54:01.909Z"
   },
   {
    "duration": 23,
    "start_time": "2022-12-06T18:54:01.939Z"
   },
   {
    "duration": 17,
    "start_time": "2022-12-06T18:54:01.963Z"
   },
   {
    "duration": 38,
    "start_time": "2022-12-06T18:54:01.982Z"
   },
   {
    "duration": 33,
    "start_time": "2022-12-06T18:54:02.021Z"
   },
   {
    "duration": 29,
    "start_time": "2022-12-06T18:54:02.055Z"
   },
   {
    "duration": 13,
    "start_time": "2022-12-06T18:54:02.086Z"
   },
   {
    "duration": 31,
    "start_time": "2022-12-06T18:54:02.101Z"
   },
   {
    "duration": 49,
    "start_time": "2022-12-06T18:54:02.134Z"
   },
   {
    "duration": 20,
    "start_time": "2022-12-06T18:54:02.185Z"
   },
   {
    "duration": 162,
    "start_time": "2022-12-06T18:54:02.207Z"
   },
   {
    "duration": 46,
    "start_time": "2022-12-06T18:54:02.371Z"
   },
   {
    "duration": 351,
    "start_time": "2022-12-06T18:54:02.419Z"
   },
   {
    "duration": 9,
    "start_time": "2022-12-06T18:54:24.070Z"
   },
   {
    "duration": 12,
    "start_time": "2022-12-06T18:54:24.081Z"
   },
   {
    "duration": 12,
    "start_time": "2022-12-06T18:54:24.094Z"
   },
   {
    "duration": 16,
    "start_time": "2022-12-06T18:54:24.108Z"
   },
   {
    "duration": 81,
    "start_time": "2022-12-06T18:54:24.126Z"
   },
   {
    "duration": 197,
    "start_time": "2022-12-06T18:54:24.210Z"
   },
   {
    "duration": 1048,
    "start_time": "2022-12-06T18:54:24.408Z"
   },
   {
    "duration": 13,
    "start_time": "2022-12-06T18:54:25.457Z"
   },
   {
    "duration": 43,
    "start_time": "2022-12-06T18:54:25.471Z"
   },
   {
    "duration": 15,
    "start_time": "2022-12-06T18:54:25.606Z"
   },
   {
    "duration": 292,
    "start_time": "2022-12-06T18:54:25.624Z"
   },
   {
    "duration": 559,
    "start_time": "2022-12-06T18:54:25.918Z"
   },
   {
    "duration": 166,
    "start_time": "2022-12-06T18:54:26.478Z"
   },
   {
    "duration": 6,
    "start_time": "2022-12-06T18:54:26.646Z"
   },
   {
    "duration": 21452,
    "start_time": "2022-12-06T18:54:26.653Z"
   },
   {
    "duration": 49,
    "start_time": "2022-12-06T21:30:41.618Z"
   },
   {
    "duration": 8,
    "start_time": "2022-12-06T21:30:50.819Z"
   },
   {
    "duration": 1517,
    "start_time": "2022-12-06T21:31:01.888Z"
   },
   {
    "duration": 175,
    "start_time": "2022-12-06T21:31:03.407Z"
   },
   {
    "duration": 14,
    "start_time": "2022-12-06T21:31:03.584Z"
   },
   {
    "duration": 9,
    "start_time": "2022-12-06T21:31:03.601Z"
   },
   {
    "duration": 17,
    "start_time": "2022-12-06T21:31:03.612Z"
   },
   {
    "duration": 9,
    "start_time": "2022-12-06T21:31:03.630Z"
   },
   {
    "duration": 14,
    "start_time": "2022-12-06T21:31:03.641Z"
   },
   {
    "duration": 11,
    "start_time": "2022-12-06T21:31:03.657Z"
   },
   {
    "duration": 12,
    "start_time": "2022-12-06T21:31:03.670Z"
   },
   {
    "duration": 6,
    "start_time": "2022-12-06T21:31:03.685Z"
   },
   {
    "duration": 6,
    "start_time": "2022-12-06T21:31:03.693Z"
   },
   {
    "duration": 52,
    "start_time": "2022-12-06T21:31:03.701Z"
   },
   {
    "duration": 12,
    "start_time": "2022-12-06T21:31:03.754Z"
   },
   {
    "duration": 150,
    "start_time": "2022-12-06T21:31:03.768Z"
   },
   {
    "duration": 119,
    "start_time": "2022-12-06T21:31:03.920Z"
   },
   {
    "duration": 201,
    "start_time": "2022-12-06T21:31:04.137Z"
   },
   {
    "duration": 23716,
    "start_time": "2022-12-06T21:31:04.339Z"
   },
   {
    "duration": 7,
    "start_time": "2022-12-06T21:31:28.057Z"
   },
   {
    "duration": 9,
    "start_time": "2022-12-06T21:31:28.066Z"
   },
   {
    "duration": 14,
    "start_time": "2022-12-06T21:31:28.077Z"
   },
   {
    "duration": 18,
    "start_time": "2022-12-06T21:31:28.094Z"
   },
   {
    "duration": 112,
    "start_time": "2022-12-06T21:31:28.137Z"
   },
   {
    "duration": 137,
    "start_time": "2022-12-06T21:31:28.251Z"
   },
   {
    "duration": 1268,
    "start_time": "2022-12-06T21:31:28.390Z"
   },
   {
    "duration": 14,
    "start_time": "2022-12-06T21:31:29.660Z"
   },
   {
    "duration": 65,
    "start_time": "2022-12-06T21:31:29.675Z"
   },
   {
    "duration": 108,
    "start_time": "2022-12-06T21:31:29.742Z"
   },
   {
    "duration": 302,
    "start_time": "2022-12-06T21:31:29.853Z"
   },
   {
    "duration": 616,
    "start_time": "2022-12-06T21:31:30.157Z"
   },
   {
    "duration": 179,
    "start_time": "2022-12-06T21:31:30.775Z"
   },
   {
    "duration": 6,
    "start_time": "2022-12-06T21:31:30.956Z"
   },
   {
    "duration": 611,
    "start_time": "2022-12-06T21:31:42.995Z"
   },
   {
    "duration": 589,
    "start_time": "2022-12-06T21:35:29.376Z"
   },
   {
    "duration": 1558,
    "start_time": "2022-12-08T02:39:03.820Z"
   },
   {
    "duration": 113,
    "start_time": "2022-12-08T02:39:06.228Z"
   },
   {
    "duration": 13,
    "start_time": "2022-12-08T02:39:06.855Z"
   },
   {
    "duration": 8,
    "start_time": "2022-12-08T02:39:07.265Z"
   },
   {
    "duration": 15,
    "start_time": "2022-12-08T02:39:07.633Z"
   },
   {
    "duration": 6,
    "start_time": "2022-12-08T02:39:08.425Z"
   },
   {
    "duration": 12,
    "start_time": "2022-12-08T02:39:08.607Z"
   },
   {
    "duration": 13,
    "start_time": "2022-12-08T02:39:10.540Z"
   },
   {
    "duration": 10,
    "start_time": "2022-12-08T02:39:11.026Z"
   },
   {
    "duration": 6,
    "start_time": "2022-12-08T02:39:11.281Z"
   },
   {
    "duration": 4,
    "start_time": "2022-12-08T02:39:11.681Z"
   },
   {
    "duration": 22,
    "start_time": "2022-12-08T02:39:13.591Z"
   },
   {
    "duration": 13,
    "start_time": "2022-12-08T02:39:15.397Z"
   },
   {
    "duration": 170,
    "start_time": "2022-12-08T02:39:16.293Z"
   },
   {
    "duration": 6,
    "start_time": "2022-12-08T02:39:21.471Z"
   },
   {
    "duration": 4,
    "start_time": "2022-12-08T02:39:21.966Z"
   },
   {
    "duration": 11,
    "start_time": "2022-12-08T02:39:23.663Z"
   },
   {
    "duration": 5,
    "start_time": "2022-12-08T02:39:23.845Z"
   },
   {
    "duration": 18,
    "start_time": "2022-12-08T02:42:40.130Z"
   },
   {
    "duration": 9,
    "start_time": "2022-12-08T02:42:41.338Z"
   },
   {
    "duration": 90,
    "start_time": "2022-12-10T18:48:16.486Z"
   },
   {
    "duration": 45,
    "start_time": "2022-12-10T18:49:27.816Z"
   },
   {
    "duration": 1485,
    "start_time": "2022-12-10T18:49:36.832Z"
   },
   {
    "duration": 166,
    "start_time": "2022-12-10T18:49:38.319Z"
   },
   {
    "duration": 12,
    "start_time": "2022-12-10T18:49:38.486Z"
   },
   {
    "duration": 7,
    "start_time": "2022-12-10T18:49:38.500Z"
   },
   {
    "duration": 13,
    "start_time": "2022-12-10T18:49:38.508Z"
   },
   {
    "duration": 105,
    "start_time": "2022-12-10T18:49:38.522Z"
   },
   {
    "duration": 0,
    "start_time": "2022-12-10T18:49:38.628Z"
   },
   {
    "duration": 0,
    "start_time": "2022-12-10T18:49:38.629Z"
   },
   {
    "duration": 0,
    "start_time": "2022-12-10T18:49:38.630Z"
   },
   {
    "duration": 0,
    "start_time": "2022-12-10T18:49:38.632Z"
   },
   {
    "duration": 0,
    "start_time": "2022-12-10T18:49:38.633Z"
   },
   {
    "duration": 0,
    "start_time": "2022-12-10T18:49:38.634Z"
   },
   {
    "duration": 0,
    "start_time": "2022-12-10T18:49:38.634Z"
   },
   {
    "duration": 0,
    "start_time": "2022-12-10T18:49:38.636Z"
   },
   {
    "duration": 0,
    "start_time": "2022-12-10T18:49:38.637Z"
   },
   {
    "duration": 0,
    "start_time": "2022-12-10T18:49:38.638Z"
   },
   {
    "duration": 0,
    "start_time": "2022-12-10T18:49:38.639Z"
   },
   {
    "duration": 0,
    "start_time": "2022-12-10T18:49:38.640Z"
   },
   {
    "duration": 0,
    "start_time": "2022-12-10T18:49:38.641Z"
   },
   {
    "duration": 0,
    "start_time": "2022-12-10T18:49:38.642Z"
   },
   {
    "duration": 0,
    "start_time": "2022-12-10T18:49:38.643Z"
   },
   {
    "duration": 0,
    "start_time": "2022-12-10T18:49:38.644Z"
   },
   {
    "duration": 0,
    "start_time": "2022-12-10T18:49:38.645Z"
   },
   {
    "duration": 0,
    "start_time": "2022-12-10T18:49:38.646Z"
   },
   {
    "duration": 0,
    "start_time": "2022-12-10T18:49:38.647Z"
   },
   {
    "duration": 0,
    "start_time": "2022-12-10T18:49:38.648Z"
   },
   {
    "duration": 0,
    "start_time": "2022-12-10T18:49:38.649Z"
   },
   {
    "duration": 0,
    "start_time": "2022-12-10T18:49:38.650Z"
   },
   {
    "duration": 0,
    "start_time": "2022-12-10T18:49:38.651Z"
   },
   {
    "duration": 0,
    "start_time": "2022-12-10T18:49:38.652Z"
   },
   {
    "duration": 0,
    "start_time": "2022-12-10T18:49:38.652Z"
   },
   {
    "duration": 0,
    "start_time": "2022-12-10T18:49:38.653Z"
   },
   {
    "duration": 0,
    "start_time": "2022-12-10T18:49:38.654Z"
   },
   {
    "duration": 9,
    "start_time": "2022-12-10T18:50:03.731Z"
   },
   {
    "duration": 6,
    "start_time": "2022-12-10T18:50:21.778Z"
   },
   {
    "duration": 3,
    "start_time": "2022-12-10T18:50:23.241Z"
   },
   {
    "duration": 4,
    "start_time": "2022-12-10T18:50:27.411Z"
   },
   {
    "duration": 8,
    "start_time": "2022-12-10T18:51:07.578Z"
   },
   {
    "duration": 6,
    "start_time": "2022-12-10T18:51:08.374Z"
   },
   {
    "duration": 4,
    "start_time": "2022-12-10T18:51:08.896Z"
   },
   {
    "duration": 4,
    "start_time": "2022-12-10T18:51:13.990Z"
   },
   {
    "duration": 4,
    "start_time": "2022-12-10T18:51:41.851Z"
   },
   {
    "duration": 10,
    "start_time": "2022-12-10T18:52:25.287Z"
   },
   {
    "duration": 14,
    "start_time": "2022-12-10T18:52:26.105Z"
   },
   {
    "duration": 8,
    "start_time": "2022-12-10T18:53:19.445Z"
   },
   {
    "duration": 13,
    "start_time": "2022-12-10T18:53:19.973Z"
   },
   {
    "duration": 8,
    "start_time": "2022-12-10T18:53:27.096Z"
   },
   {
    "duration": 8,
    "start_time": "2022-12-10T18:53:28.243Z"
   },
   {
    "duration": 23,
    "start_time": "2022-12-10T18:54:15.800Z"
   },
   {
    "duration": 23,
    "start_time": "2022-12-10T18:54:42.237Z"
   },
   {
    "duration": 18,
    "start_time": "2022-12-10T18:55:40.902Z"
   },
   {
    "duration": 9,
    "start_time": "2022-12-10T18:55:58.918Z"
   },
   {
    "duration": 120,
    "start_time": "2022-12-10T18:56:30.020Z"
   },
   {
    "duration": 102,
    "start_time": "2022-12-10T18:58:39.098Z"
   },
   {
    "duration": 164,
    "start_time": "2022-12-10T18:58:57.859Z"
   },
   {
    "duration": 95,
    "start_time": "2022-12-10T18:59:22.728Z"
   },
   {
    "duration": 1276,
    "start_time": "2022-12-10T18:59:29.265Z"
   },
   {
    "duration": 46,
    "start_time": "2022-12-10T18:59:30.543Z"
   },
   {
    "duration": 12,
    "start_time": "2022-12-10T18:59:30.592Z"
   },
   {
    "duration": 35,
    "start_time": "2022-12-10T18:59:30.607Z"
   },
   {
    "duration": 40,
    "start_time": "2022-12-10T18:59:30.644Z"
   },
   {
    "duration": 47,
    "start_time": "2022-12-10T18:59:30.686Z"
   },
   {
    "duration": 22,
    "start_time": "2022-12-10T18:59:30.735Z"
   },
   {
    "duration": 37,
    "start_time": "2022-12-10T18:59:30.759Z"
   },
   {
    "duration": 33,
    "start_time": "2022-12-10T18:59:30.798Z"
   },
   {
    "duration": 48,
    "start_time": "2022-12-10T18:59:30.834Z"
   },
   {
    "duration": 37,
    "start_time": "2022-12-10T18:59:30.883Z"
   },
   {
    "duration": 54,
    "start_time": "2022-12-10T18:59:30.922Z"
   },
   {
    "duration": 33,
    "start_time": "2022-12-10T18:59:30.977Z"
   },
   {
    "duration": 51,
    "start_time": "2022-12-10T18:59:31.012Z"
   },
   {
    "duration": 22,
    "start_time": "2022-12-10T18:59:31.066Z"
   },
   {
    "duration": 120,
    "start_time": "2022-12-10T18:59:31.090Z"
   },
   {
    "duration": 316,
    "start_time": "2022-12-10T18:59:31.212Z"
   },
   {
    "duration": 0,
    "start_time": "2022-12-10T18:59:31.530Z"
   },
   {
    "duration": 0,
    "start_time": "2022-12-10T18:59:31.531Z"
   },
   {
    "duration": 0,
    "start_time": "2022-12-10T18:59:31.532Z"
   },
   {
    "duration": 0,
    "start_time": "2022-12-10T18:59:31.533Z"
   },
   {
    "duration": 0,
    "start_time": "2022-12-10T18:59:31.534Z"
   },
   {
    "duration": 0,
    "start_time": "2022-12-10T18:59:31.535Z"
   },
   {
    "duration": 0,
    "start_time": "2022-12-10T18:59:31.536Z"
   },
   {
    "duration": 0,
    "start_time": "2022-12-10T18:59:31.537Z"
   },
   {
    "duration": 0,
    "start_time": "2022-12-10T18:59:31.538Z"
   },
   {
    "duration": 0,
    "start_time": "2022-12-10T18:59:31.539Z"
   },
   {
    "duration": 0,
    "start_time": "2022-12-10T18:59:31.541Z"
   },
   {
    "duration": 0,
    "start_time": "2022-12-10T18:59:31.541Z"
   },
   {
    "duration": 0,
    "start_time": "2022-12-10T18:59:31.542Z"
   },
   {
    "duration": 0,
    "start_time": "2022-12-10T18:59:31.543Z"
   },
   {
    "duration": 0,
    "start_time": "2022-12-10T18:59:31.544Z"
   },
   {
    "duration": 0,
    "start_time": "2022-12-10T18:59:31.545Z"
   },
   {
    "duration": 0,
    "start_time": "2022-12-10T18:59:31.546Z"
   },
   {
    "duration": 0,
    "start_time": "2022-12-10T18:59:31.547Z"
   },
   {
    "duration": 19,
    "start_time": "2022-12-10T19:00:29.885Z"
   },
   {
    "duration": 18,
    "start_time": "2022-12-10T19:00:55.139Z"
   },
   {
    "duration": 15,
    "start_time": "2022-12-10T19:00:59.578Z"
   },
   {
    "duration": 1364,
    "start_time": "2022-12-10T19:01:12.639Z"
   },
   {
    "duration": 52,
    "start_time": "2022-12-10T19:01:14.005Z"
   },
   {
    "duration": 14,
    "start_time": "2022-12-10T19:01:14.059Z"
   },
   {
    "duration": 10,
    "start_time": "2022-12-10T19:01:14.077Z"
   },
   {
    "duration": 23,
    "start_time": "2022-12-10T19:01:14.089Z"
   },
   {
    "duration": 18,
    "start_time": "2022-12-10T19:01:14.122Z"
   },
   {
    "duration": 9,
    "start_time": "2022-12-10T19:01:14.142Z"
   },
   {
    "duration": 11,
    "start_time": "2022-12-10T19:01:14.152Z"
   },
   {
    "duration": 12,
    "start_time": "2022-12-10T19:01:14.164Z"
   },
   {
    "duration": 13,
    "start_time": "2022-12-10T19:01:14.179Z"
   },
   {
    "duration": 30,
    "start_time": "2022-12-10T19:01:14.194Z"
   },
   {
    "duration": 13,
    "start_time": "2022-12-10T19:01:14.226Z"
   },
   {
    "duration": 17,
    "start_time": "2022-12-10T19:01:14.241Z"
   },
   {
    "duration": 24,
    "start_time": "2022-12-10T19:01:14.259Z"
   },
   {
    "duration": 17,
    "start_time": "2022-12-10T19:01:14.284Z"
   },
   {
    "duration": 140,
    "start_time": "2022-12-10T19:01:14.303Z"
   },
   {
    "duration": 77,
    "start_time": "2022-12-10T19:01:14.445Z"
   },
   {
    "duration": 199,
    "start_time": "2022-12-10T19:01:14.524Z"
   },
   {
    "duration": 0,
    "start_time": "2022-12-10T19:01:14.725Z"
   },
   {
    "duration": 0,
    "start_time": "2022-12-10T19:01:14.726Z"
   },
   {
    "duration": 0,
    "start_time": "2022-12-10T19:01:14.727Z"
   },
   {
    "duration": 0,
    "start_time": "2022-12-10T19:01:14.728Z"
   },
   {
    "duration": 0,
    "start_time": "2022-12-10T19:01:14.729Z"
   },
   {
    "duration": 0,
    "start_time": "2022-12-10T19:01:14.730Z"
   },
   {
    "duration": 0,
    "start_time": "2022-12-10T19:01:14.731Z"
   },
   {
    "duration": 0,
    "start_time": "2022-12-10T19:01:14.732Z"
   },
   {
    "duration": 0,
    "start_time": "2022-12-10T19:01:14.734Z"
   },
   {
    "duration": 0,
    "start_time": "2022-12-10T19:01:14.735Z"
   },
   {
    "duration": 0,
    "start_time": "2022-12-10T19:01:14.735Z"
   },
   {
    "duration": 0,
    "start_time": "2022-12-10T19:01:14.736Z"
   },
   {
    "duration": 0,
    "start_time": "2022-12-10T19:01:14.737Z"
   },
   {
    "duration": 0,
    "start_time": "2022-12-10T19:01:14.738Z"
   },
   {
    "duration": 0,
    "start_time": "2022-12-10T19:01:14.739Z"
   },
   {
    "duration": 0,
    "start_time": "2022-12-10T19:01:14.740Z"
   },
   {
    "duration": 0,
    "start_time": "2022-12-10T19:01:14.741Z"
   },
   {
    "duration": 0,
    "start_time": "2022-12-10T19:01:14.742Z"
   },
   {
    "duration": 20,
    "start_time": "2022-12-10T19:01:54.320Z"
   },
   {
    "duration": 16,
    "start_time": "2022-12-10T19:01:57.676Z"
   },
   {
    "duration": 16,
    "start_time": "2022-12-10T19:02:06.836Z"
   },
   {
    "duration": 16,
    "start_time": "2022-12-10T19:02:25.517Z"
   },
   {
    "duration": 25,
    "start_time": "2022-12-10T19:03:37.483Z"
   },
   {
    "duration": 44,
    "start_time": "2022-12-10T19:03:44.778Z"
   },
   {
    "duration": 1320,
    "start_time": "2022-12-10T19:05:50.243Z"
   },
   {
    "duration": 62,
    "start_time": "2022-12-10T19:05:51.566Z"
   },
   {
    "duration": 15,
    "start_time": "2022-12-10T19:05:51.631Z"
   },
   {
    "duration": 30,
    "start_time": "2022-12-10T19:05:51.648Z"
   },
   {
    "duration": 33,
    "start_time": "2022-12-10T19:05:51.681Z"
   },
   {
    "duration": 23,
    "start_time": "2022-12-10T19:05:51.716Z"
   },
   {
    "duration": 34,
    "start_time": "2022-12-10T19:05:51.741Z"
   },
   {
    "duration": 14,
    "start_time": "2022-12-10T19:05:51.777Z"
   },
   {
    "duration": 10,
    "start_time": "2022-12-10T19:05:51.793Z"
   },
   {
    "duration": 14,
    "start_time": "2022-12-10T19:05:51.804Z"
   },
   {
    "duration": 13,
    "start_time": "2022-12-10T19:05:51.820Z"
   },
   {
    "duration": 13,
    "start_time": "2022-12-10T19:05:51.835Z"
   },
   {
    "duration": 17,
    "start_time": "2022-12-10T19:05:51.850Z"
   },
   {
    "duration": 25,
    "start_time": "2022-12-10T19:05:51.870Z"
   },
   {
    "duration": 28,
    "start_time": "2022-12-10T19:05:51.897Z"
   },
   {
    "duration": 120,
    "start_time": "2022-12-10T19:05:51.926Z"
   },
   {
    "duration": 76,
    "start_time": "2022-12-10T19:05:52.048Z"
   },
   {
    "duration": 204,
    "start_time": "2022-12-10T19:05:52.125Z"
   },
   {
    "duration": 0,
    "start_time": "2022-12-10T19:05:52.330Z"
   },
   {
    "duration": 0,
    "start_time": "2022-12-10T19:05:52.331Z"
   },
   {
    "duration": 0,
    "start_time": "2022-12-10T19:05:52.332Z"
   },
   {
    "duration": 0,
    "start_time": "2022-12-10T19:05:52.333Z"
   },
   {
    "duration": 0,
    "start_time": "2022-12-10T19:05:52.335Z"
   },
   {
    "duration": 0,
    "start_time": "2022-12-10T19:05:52.335Z"
   },
   {
    "duration": 0,
    "start_time": "2022-12-10T19:05:52.336Z"
   },
   {
    "duration": 0,
    "start_time": "2022-12-10T19:05:52.337Z"
   },
   {
    "duration": 0,
    "start_time": "2022-12-10T19:05:52.338Z"
   },
   {
    "duration": 0,
    "start_time": "2022-12-10T19:05:52.339Z"
   },
   {
    "duration": 0,
    "start_time": "2022-12-10T19:05:52.340Z"
   },
   {
    "duration": 0,
    "start_time": "2022-12-10T19:05:52.341Z"
   },
   {
    "duration": 0,
    "start_time": "2022-12-10T19:05:52.342Z"
   },
   {
    "duration": 0,
    "start_time": "2022-12-10T19:05:52.343Z"
   },
   {
    "duration": 0,
    "start_time": "2022-12-10T19:05:52.344Z"
   },
   {
    "duration": 0,
    "start_time": "2022-12-10T19:05:52.346Z"
   },
   {
    "duration": 0,
    "start_time": "2022-12-10T19:05:52.347Z"
   },
   {
    "duration": 0,
    "start_time": "2022-12-10T19:05:52.348Z"
   },
   {
    "duration": 84,
    "start_time": "2022-12-10T19:06:55.140Z"
   },
   {
    "duration": 4,
    "start_time": "2022-12-10T19:08:43.681Z"
   },
   {
    "duration": 45,
    "start_time": "2022-12-10T19:08:43.688Z"
   },
   {
    "duration": 11,
    "start_time": "2022-12-10T19:08:43.734Z"
   },
   {
    "duration": 7,
    "start_time": "2022-12-10T19:08:43.747Z"
   },
   {
    "duration": 16,
    "start_time": "2022-12-10T19:08:43.756Z"
   },
   {
    "duration": 9,
    "start_time": "2022-12-10T19:08:43.774Z"
   },
   {
    "duration": 6,
    "start_time": "2022-12-10T19:08:43.784Z"
   },
   {
    "duration": 33,
    "start_time": "2022-12-10T19:08:43.791Z"
   },
   {
    "duration": 7,
    "start_time": "2022-12-10T19:08:43.825Z"
   },
   {
    "duration": 12,
    "start_time": "2022-12-10T19:08:43.834Z"
   },
   {
    "duration": 13,
    "start_time": "2022-12-10T19:08:43.848Z"
   },
   {
    "duration": 11,
    "start_time": "2022-12-10T19:08:43.863Z"
   },
   {
    "duration": 17,
    "start_time": "2022-12-10T19:08:43.877Z"
   },
   {
    "duration": 38,
    "start_time": "2022-12-10T19:08:43.896Z"
   },
   {
    "duration": 16,
    "start_time": "2022-12-10T19:08:43.935Z"
   },
   {
    "duration": 132,
    "start_time": "2022-12-10T19:08:43.953Z"
   },
   {
    "duration": 137,
    "start_time": "2022-12-10T19:08:44.087Z"
   },
   {
    "duration": 0,
    "start_time": "2022-12-10T19:08:44.226Z"
   },
   {
    "duration": 0,
    "start_time": "2022-12-10T19:08:44.227Z"
   },
   {
    "duration": 0,
    "start_time": "2022-12-10T19:08:44.228Z"
   },
   {
    "duration": 0,
    "start_time": "2022-12-10T19:08:44.229Z"
   },
   {
    "duration": 0,
    "start_time": "2022-12-10T19:08:44.230Z"
   },
   {
    "duration": 0,
    "start_time": "2022-12-10T19:08:44.231Z"
   },
   {
    "duration": 0,
    "start_time": "2022-12-10T19:08:44.233Z"
   },
   {
    "duration": 0,
    "start_time": "2022-12-10T19:08:44.323Z"
   },
   {
    "duration": 0,
    "start_time": "2022-12-10T19:08:44.325Z"
   },
   {
    "duration": 0,
    "start_time": "2022-12-10T19:08:44.326Z"
   },
   {
    "duration": 0,
    "start_time": "2022-12-10T19:08:44.327Z"
   },
   {
    "duration": 0,
    "start_time": "2022-12-10T19:08:44.328Z"
   },
   {
    "duration": 0,
    "start_time": "2022-12-10T19:08:44.329Z"
   },
   {
    "duration": 0,
    "start_time": "2022-12-10T19:08:44.331Z"
   },
   {
    "duration": 0,
    "start_time": "2022-12-10T19:08:44.331Z"
   },
   {
    "duration": 0,
    "start_time": "2022-12-10T19:08:44.332Z"
   },
   {
    "duration": 0,
    "start_time": "2022-12-10T19:08:44.333Z"
   },
   {
    "duration": 0,
    "start_time": "2022-12-10T19:08:44.334Z"
   },
   {
    "duration": 7,
    "start_time": "2022-12-10T19:11:09.318Z"
   },
   {
    "duration": 13,
    "start_time": "2022-12-10T19:11:16.496Z"
   },
   {
    "duration": 7,
    "start_time": "2022-12-10T19:11:23.595Z"
   },
   {
    "duration": 8,
    "start_time": "2022-12-10T19:11:30.206Z"
   },
   {
    "duration": 21,
    "start_time": "2022-12-10T19:11:39.596Z"
   },
   {
    "duration": 18,
    "start_time": "2022-12-10T19:12:01.929Z"
   },
   {
    "duration": 101,
    "start_time": "2022-12-10T19:12:10.004Z"
   },
   {
    "duration": 95,
    "start_time": "2022-12-10T19:12:15.634Z"
   },
   {
    "duration": 1335,
    "start_time": "2022-12-10T19:12:28.786Z"
   },
   {
    "duration": 47,
    "start_time": "2022-12-10T19:12:30.123Z"
   },
   {
    "duration": 12,
    "start_time": "2022-12-10T19:12:30.172Z"
   },
   {
    "duration": 8,
    "start_time": "2022-12-10T19:12:30.187Z"
   },
   {
    "duration": 28,
    "start_time": "2022-12-10T19:12:30.197Z"
   },
   {
    "duration": 16,
    "start_time": "2022-12-10T19:12:30.227Z"
   },
   {
    "duration": 16,
    "start_time": "2022-12-10T19:12:30.244Z"
   },
   {
    "duration": 11,
    "start_time": "2022-12-10T19:12:30.261Z"
   },
   {
    "duration": 16,
    "start_time": "2022-12-10T19:12:30.274Z"
   },
   {
    "duration": 16,
    "start_time": "2022-12-10T19:12:30.293Z"
   },
   {
    "duration": 15,
    "start_time": "2022-12-10T19:12:30.311Z"
   },
   {
    "duration": 12,
    "start_time": "2022-12-10T19:12:30.328Z"
   },
   {
    "duration": 23,
    "start_time": "2022-12-10T19:12:30.342Z"
   },
   {
    "duration": 30,
    "start_time": "2022-12-10T19:12:30.367Z"
   },
   {
    "duration": 19,
    "start_time": "2022-12-10T19:12:30.399Z"
   },
   {
    "duration": 124,
    "start_time": "2022-12-10T19:12:30.419Z"
   },
   {
    "duration": 263,
    "start_time": "2022-12-10T19:12:30.545Z"
   },
   {
    "duration": 0,
    "start_time": "2022-12-10T19:12:30.810Z"
   },
   {
    "duration": 1,
    "start_time": "2022-12-10T19:12:30.822Z"
   },
   {
    "duration": 0,
    "start_time": "2022-12-10T19:12:30.824Z"
   },
   {
    "duration": 0,
    "start_time": "2022-12-10T19:12:30.825Z"
   },
   {
    "duration": 0,
    "start_time": "2022-12-10T19:12:30.826Z"
   },
   {
    "duration": 0,
    "start_time": "2022-12-10T19:12:30.828Z"
   },
   {
    "duration": 0,
    "start_time": "2022-12-10T19:12:30.828Z"
   },
   {
    "duration": 0,
    "start_time": "2022-12-10T19:12:30.829Z"
   },
   {
    "duration": 0,
    "start_time": "2022-12-10T19:12:30.830Z"
   },
   {
    "duration": 0,
    "start_time": "2022-12-10T19:12:30.831Z"
   },
   {
    "duration": 0,
    "start_time": "2022-12-10T19:12:30.832Z"
   },
   {
    "duration": 0,
    "start_time": "2022-12-10T19:12:30.833Z"
   },
   {
    "duration": 0,
    "start_time": "2022-12-10T19:12:30.834Z"
   },
   {
    "duration": 0,
    "start_time": "2022-12-10T19:12:30.835Z"
   },
   {
    "duration": 0,
    "start_time": "2022-12-10T19:12:30.836Z"
   },
   {
    "duration": 0,
    "start_time": "2022-12-10T19:12:30.837Z"
   },
   {
    "duration": 0,
    "start_time": "2022-12-10T19:12:30.838Z"
   },
   {
    "duration": 0,
    "start_time": "2022-12-10T19:12:30.839Z"
   },
   {
    "duration": 45,
    "start_time": "2022-12-10T19:12:48.781Z"
   },
   {
    "duration": 24,
    "start_time": "2022-12-10T19:14:12.424Z"
   },
   {
    "duration": 4,
    "start_time": "2022-12-10T19:21:20.241Z"
   },
   {
    "duration": 71,
    "start_time": "2022-12-10T19:22:11.856Z"
   },
   {
    "duration": 4,
    "start_time": "2022-12-10T19:22:51.865Z"
   },
   {
    "duration": 53,
    "start_time": "2022-12-10T19:22:51.871Z"
   },
   {
    "duration": 12,
    "start_time": "2022-12-10T19:22:51.926Z"
   },
   {
    "duration": 5,
    "start_time": "2022-12-10T19:22:51.940Z"
   },
   {
    "duration": 14,
    "start_time": "2022-12-10T19:22:51.947Z"
   },
   {
    "duration": 6,
    "start_time": "2022-12-10T19:22:51.962Z"
   },
   {
    "duration": 7,
    "start_time": "2022-12-10T19:22:51.970Z"
   },
   {
    "duration": 5,
    "start_time": "2022-12-10T19:22:51.979Z"
   },
   {
    "duration": 38,
    "start_time": "2022-12-10T19:22:51.985Z"
   },
   {
    "duration": 18,
    "start_time": "2022-12-10T19:22:52.025Z"
   },
   {
    "duration": 11,
    "start_time": "2022-12-10T19:22:52.044Z"
   },
   {
    "duration": 7,
    "start_time": "2022-12-10T19:22:52.058Z"
   },
   {
    "duration": 6,
    "start_time": "2022-12-10T19:22:52.068Z"
   },
   {
    "duration": 28,
    "start_time": "2022-12-10T19:22:52.075Z"
   },
   {
    "duration": 34,
    "start_time": "2022-12-10T19:22:52.104Z"
   },
   {
    "duration": 121,
    "start_time": "2022-12-10T19:22:52.139Z"
   },
   {
    "duration": 161,
    "start_time": "2022-12-10T19:22:52.261Z"
   },
   {
    "duration": 0,
    "start_time": "2022-12-10T19:22:52.424Z"
   },
   {
    "duration": 0,
    "start_time": "2022-12-10T19:22:52.425Z"
   },
   {
    "duration": 0,
    "start_time": "2022-12-10T19:22:52.426Z"
   },
   {
    "duration": 0,
    "start_time": "2022-12-10T19:22:52.427Z"
   },
   {
    "duration": 0,
    "start_time": "2022-12-10T19:22:52.428Z"
   },
   {
    "duration": 0,
    "start_time": "2022-12-10T19:22:52.429Z"
   },
   {
    "duration": 0,
    "start_time": "2022-12-10T19:22:52.430Z"
   },
   {
    "duration": 0,
    "start_time": "2022-12-10T19:22:52.432Z"
   },
   {
    "duration": 1,
    "start_time": "2022-12-10T19:22:52.432Z"
   },
   {
    "duration": 0,
    "start_time": "2022-12-10T19:22:52.434Z"
   },
   {
    "duration": 0,
    "start_time": "2022-12-10T19:22:52.435Z"
   },
   {
    "duration": 0,
    "start_time": "2022-12-10T19:22:52.436Z"
   },
   {
    "duration": 0,
    "start_time": "2022-12-10T19:22:52.437Z"
   },
   {
    "duration": 0,
    "start_time": "2022-12-10T19:22:52.438Z"
   },
   {
    "duration": 0,
    "start_time": "2022-12-10T19:22:52.439Z"
   },
   {
    "duration": 0,
    "start_time": "2022-12-10T19:22:52.440Z"
   },
   {
    "duration": 0,
    "start_time": "2022-12-10T19:22:52.441Z"
   },
   {
    "duration": 0,
    "start_time": "2022-12-10T19:22:52.441Z"
   },
   {
    "duration": 24,
    "start_time": "2022-12-10T19:23:15.125Z"
   },
   {
    "duration": 45,
    "start_time": "2022-12-10T19:23:17.104Z"
   },
   {
    "duration": 7,
    "start_time": "2022-12-10T19:23:20.878Z"
   },
   {
    "duration": 4,
    "start_time": "2022-12-10T19:23:21.811Z"
   },
   {
    "duration": 9,
    "start_time": "2022-12-10T19:23:22.705Z"
   },
   {
    "duration": 7,
    "start_time": "2022-12-10T19:23:23.489Z"
   },
   {
    "duration": 17,
    "start_time": "2022-12-10T19:23:24.936Z"
   },
   {
    "duration": 153,
    "start_time": "2022-12-10T19:23:25.769Z"
   },
   {
    "duration": 53,
    "start_time": "2022-12-10T19:23:26.497Z"
   },
   {
    "duration": 1066,
    "start_time": "2022-12-10T19:23:27.534Z"
   },
   {
    "duration": 11,
    "start_time": "2022-12-10T19:23:29.795Z"
   },
   {
    "duration": 5,
    "start_time": "2022-12-10T19:23:30.401Z"
   },
   {
    "duration": 64,
    "start_time": "2022-12-10T19:23:31.764Z"
   },
   {
    "duration": 27,
    "start_time": "2022-12-10T19:23:32.361Z"
   },
   {
    "duration": 640,
    "start_time": "2022-12-10T19:23:55.372Z"
   },
   {
    "duration": 4,
    "start_time": "2022-12-10T19:25:32.625Z"
   },
   {
    "duration": 5,
    "start_time": "2022-12-10T19:26:16.763Z"
   },
   {
    "duration": 1368,
    "start_time": "2022-12-10T19:26:23.744Z"
   },
   {
    "duration": 45,
    "start_time": "2022-12-10T19:26:25.114Z"
   },
   {
    "duration": 12,
    "start_time": "2022-12-10T19:26:25.161Z"
   },
   {
    "duration": 7,
    "start_time": "2022-12-10T19:26:25.175Z"
   },
   {
    "duration": 13,
    "start_time": "2022-12-10T19:26:25.183Z"
   },
   {
    "duration": 7,
    "start_time": "2022-12-10T19:26:25.197Z"
   },
   {
    "duration": 7,
    "start_time": "2022-12-10T19:26:25.221Z"
   },
   {
    "duration": 6,
    "start_time": "2022-12-10T19:26:25.229Z"
   },
   {
    "duration": 6,
    "start_time": "2022-12-10T19:26:25.236Z"
   },
   {
    "duration": 11,
    "start_time": "2022-12-10T19:26:25.246Z"
   },
   {
    "duration": 17,
    "start_time": "2022-12-10T19:26:25.271Z"
   },
   {
    "duration": 13,
    "start_time": "2022-12-10T19:26:25.289Z"
   },
   {
    "duration": 22,
    "start_time": "2022-12-10T19:26:25.304Z"
   },
   {
    "duration": 7,
    "start_time": "2022-12-10T19:26:25.328Z"
   },
   {
    "duration": 6,
    "start_time": "2022-12-10T19:26:25.336Z"
   },
   {
    "duration": 38,
    "start_time": "2022-12-10T19:26:25.344Z"
   },
   {
    "duration": 38,
    "start_time": "2022-12-10T19:26:25.384Z"
   },
   {
    "duration": 123,
    "start_time": "2022-12-10T19:26:25.424Z"
   },
   {
    "duration": 255,
    "start_time": "2022-12-10T19:26:25.550Z"
   },
   {
    "duration": 0,
    "start_time": "2022-12-10T19:26:25.807Z"
   },
   {
    "duration": 0,
    "start_time": "2022-12-10T19:26:25.808Z"
   },
   {
    "duration": 0,
    "start_time": "2022-12-10T19:26:25.809Z"
   },
   {
    "duration": 0,
    "start_time": "2022-12-10T19:26:25.822Z"
   },
   {
    "duration": 0,
    "start_time": "2022-12-10T19:26:25.823Z"
   },
   {
    "duration": 0,
    "start_time": "2022-12-10T19:26:25.824Z"
   },
   {
    "duration": 0,
    "start_time": "2022-12-10T19:26:25.826Z"
   },
   {
    "duration": 0,
    "start_time": "2022-12-10T19:26:25.827Z"
   },
   {
    "duration": 0,
    "start_time": "2022-12-10T19:26:25.829Z"
   },
   {
    "duration": 0,
    "start_time": "2022-12-10T19:26:25.831Z"
   },
   {
    "duration": 0,
    "start_time": "2022-12-10T19:26:25.833Z"
   },
   {
    "duration": 0,
    "start_time": "2022-12-10T19:26:25.834Z"
   },
   {
    "duration": 0,
    "start_time": "2022-12-10T19:26:25.835Z"
   },
   {
    "duration": 0,
    "start_time": "2022-12-10T19:26:25.836Z"
   },
   {
    "duration": 0,
    "start_time": "2022-12-10T19:26:25.837Z"
   },
   {
    "duration": 0,
    "start_time": "2022-12-10T19:26:25.839Z"
   },
   {
    "duration": 0,
    "start_time": "2022-12-10T19:26:25.840Z"
   },
   {
    "duration": 0,
    "start_time": "2022-12-10T19:26:25.842Z"
   },
   {
    "duration": 5,
    "start_time": "2022-12-10T19:26:57.488Z"
   },
   {
    "duration": 4,
    "start_time": "2022-12-10T19:27:00.491Z"
   },
   {
    "duration": 1372,
    "start_time": "2022-12-10T19:27:07.348Z"
   },
   {
    "duration": 47,
    "start_time": "2022-12-10T19:27:08.722Z"
   },
   {
    "duration": 13,
    "start_time": "2022-12-10T19:27:08.770Z"
   },
   {
    "duration": 8,
    "start_time": "2022-12-10T19:27:08.786Z"
   },
   {
    "duration": 14,
    "start_time": "2022-12-10T19:27:08.795Z"
   },
   {
    "duration": 18,
    "start_time": "2022-12-10T19:27:08.810Z"
   },
   {
    "duration": 6,
    "start_time": "2022-12-10T19:27:08.829Z"
   },
   {
    "duration": 10,
    "start_time": "2022-12-10T19:27:08.836Z"
   },
   {
    "duration": 14,
    "start_time": "2022-12-10T19:27:08.848Z"
   },
   {
    "duration": 12,
    "start_time": "2022-12-10T19:27:08.864Z"
   },
   {
    "duration": 10,
    "start_time": "2022-12-10T19:27:08.877Z"
   },
   {
    "duration": 6,
    "start_time": "2022-12-10T19:27:08.889Z"
   },
   {
    "duration": 45,
    "start_time": "2022-12-10T19:27:08.896Z"
   },
   {
    "duration": 17,
    "start_time": "2022-12-10T19:27:08.942Z"
   },
   {
    "duration": 142,
    "start_time": "2022-12-10T19:27:08.961Z"
   },
   {
    "duration": 129,
    "start_time": "2022-12-10T19:27:09.105Z"
   },
   {
    "duration": 0,
    "start_time": "2022-12-10T19:27:09.236Z"
   },
   {
    "duration": 0,
    "start_time": "2022-12-10T19:27:09.237Z"
   },
   {
    "duration": 0,
    "start_time": "2022-12-10T19:27:09.238Z"
   },
   {
    "duration": 0,
    "start_time": "2022-12-10T19:27:09.240Z"
   },
   {
    "duration": 0,
    "start_time": "2022-12-10T19:27:09.241Z"
   },
   {
    "duration": 0,
    "start_time": "2022-12-10T19:27:09.243Z"
   },
   {
    "duration": 0,
    "start_time": "2022-12-10T19:27:09.244Z"
   },
   {
    "duration": 0,
    "start_time": "2022-12-10T19:27:09.246Z"
   },
   {
    "duration": 0,
    "start_time": "2022-12-10T19:27:09.247Z"
   },
   {
    "duration": 0,
    "start_time": "2022-12-10T19:27:09.249Z"
   },
   {
    "duration": 0,
    "start_time": "2022-12-10T19:27:09.250Z"
   },
   {
    "duration": 0,
    "start_time": "2022-12-10T19:27:09.252Z"
   },
   {
    "duration": 0,
    "start_time": "2022-12-10T19:27:09.253Z"
   },
   {
    "duration": 0,
    "start_time": "2022-12-10T19:27:09.255Z"
   },
   {
    "duration": 0,
    "start_time": "2022-12-10T19:27:09.256Z"
   },
   {
    "duration": 1,
    "start_time": "2022-12-10T19:27:09.257Z"
   },
   {
    "duration": 0,
    "start_time": "2022-12-10T19:27:09.259Z"
   },
   {
    "duration": 0,
    "start_time": "2022-12-10T19:27:09.260Z"
   },
   {
    "duration": 29,
    "start_time": "2022-12-10T19:27:25.198Z"
   },
   {
    "duration": 1403,
    "start_time": "2022-12-10T19:27:43.664Z"
   },
   {
    "duration": 47,
    "start_time": "2022-12-10T19:27:45.069Z"
   },
   {
    "duration": 13,
    "start_time": "2022-12-10T19:27:45.118Z"
   },
   {
    "duration": 9,
    "start_time": "2022-12-10T19:27:45.133Z"
   },
   {
    "duration": 15,
    "start_time": "2022-12-10T19:27:45.143Z"
   },
   {
    "duration": 7,
    "start_time": "2022-12-10T19:27:45.160Z"
   },
   {
    "duration": 7,
    "start_time": "2022-12-10T19:27:45.169Z"
   },
   {
    "duration": 8,
    "start_time": "2022-12-10T19:27:45.177Z"
   },
   {
    "duration": 6,
    "start_time": "2022-12-10T19:27:45.187Z"
   },
   {
    "duration": 11,
    "start_time": "2022-12-10T19:27:45.224Z"
   },
   {
    "duration": 10,
    "start_time": "2022-12-10T19:27:45.237Z"
   },
   {
    "duration": 26,
    "start_time": "2022-12-10T19:27:45.249Z"
   },
   {
    "duration": 15,
    "start_time": "2022-12-10T19:27:45.276Z"
   },
   {
    "duration": 153,
    "start_time": "2022-12-10T19:27:45.292Z"
   },
   {
    "duration": 133,
    "start_time": "2022-12-10T19:27:45.447Z"
   },
   {
    "duration": 0,
    "start_time": "2022-12-10T19:27:45.582Z"
   },
   {
    "duration": 0,
    "start_time": "2022-12-10T19:27:45.583Z"
   },
   {
    "duration": 0,
    "start_time": "2022-12-10T19:27:45.584Z"
   },
   {
    "duration": 0,
    "start_time": "2022-12-10T19:27:45.585Z"
   },
   {
    "duration": 0,
    "start_time": "2022-12-10T19:27:45.586Z"
   },
   {
    "duration": 0,
    "start_time": "2022-12-10T19:27:45.587Z"
   },
   {
    "duration": 0,
    "start_time": "2022-12-10T19:27:45.588Z"
   },
   {
    "duration": 0,
    "start_time": "2022-12-10T19:27:45.590Z"
   },
   {
    "duration": 0,
    "start_time": "2022-12-10T19:27:45.591Z"
   },
   {
    "duration": 0,
    "start_time": "2022-12-10T19:27:45.592Z"
   },
   {
    "duration": 0,
    "start_time": "2022-12-10T19:27:45.593Z"
   },
   {
    "duration": 0,
    "start_time": "2022-12-10T19:27:45.594Z"
   },
   {
    "duration": 0,
    "start_time": "2022-12-10T19:27:45.595Z"
   },
   {
    "duration": 0,
    "start_time": "2022-12-10T19:27:45.595Z"
   },
   {
    "duration": 0,
    "start_time": "2022-12-10T19:27:45.596Z"
   },
   {
    "duration": 0,
    "start_time": "2022-12-10T19:27:45.596Z"
   },
   {
    "duration": 0,
    "start_time": "2022-12-10T19:27:45.597Z"
   },
   {
    "duration": 0,
    "start_time": "2022-12-10T19:27:45.597Z"
   },
   {
    "duration": 4,
    "start_time": "2022-12-10T19:32:45.010Z"
   },
   {
    "duration": 56,
    "start_time": "2022-12-10T19:32:45.015Z"
   },
   {
    "duration": 12,
    "start_time": "2022-12-10T19:32:45.073Z"
   },
   {
    "duration": 9,
    "start_time": "2022-12-10T19:32:45.087Z"
   },
   {
    "duration": 13,
    "start_time": "2022-12-10T19:32:45.098Z"
   },
   {
    "duration": 13,
    "start_time": "2022-12-10T19:32:45.112Z"
   },
   {
    "duration": 7,
    "start_time": "2022-12-10T19:32:45.127Z"
   },
   {
    "duration": 10,
    "start_time": "2022-12-10T19:32:45.135Z"
   },
   {
    "duration": 17,
    "start_time": "2022-12-10T19:32:45.147Z"
   },
   {
    "duration": 20,
    "start_time": "2022-12-10T19:32:45.166Z"
   },
   {
    "duration": 15,
    "start_time": "2022-12-10T19:32:45.188Z"
   },
   {
    "duration": 25,
    "start_time": "2022-12-10T19:32:45.205Z"
   },
   {
    "duration": 13,
    "start_time": "2022-12-10T19:32:45.232Z"
   },
   {
    "duration": 127,
    "start_time": "2022-12-10T19:32:45.246Z"
   },
   {
    "duration": 29,
    "start_time": "2022-12-10T19:32:45.375Z"
   },
   {
    "duration": 0,
    "start_time": "2022-12-10T19:32:45.406Z"
   },
   {
    "duration": 0,
    "start_time": "2022-12-10T19:32:45.407Z"
   },
   {
    "duration": 0,
    "start_time": "2022-12-10T19:32:45.422Z"
   },
   {
    "duration": 0,
    "start_time": "2022-12-10T19:32:45.423Z"
   },
   {
    "duration": 0,
    "start_time": "2022-12-10T19:32:45.424Z"
   },
   {
    "duration": 0,
    "start_time": "2022-12-10T19:32:45.425Z"
   },
   {
    "duration": 0,
    "start_time": "2022-12-10T19:32:45.426Z"
   },
   {
    "duration": 0,
    "start_time": "2022-12-10T19:32:45.428Z"
   },
   {
    "duration": 0,
    "start_time": "2022-12-10T19:32:45.428Z"
   },
   {
    "duration": 0,
    "start_time": "2022-12-10T19:32:45.429Z"
   },
   {
    "duration": 0,
    "start_time": "2022-12-10T19:32:45.430Z"
   },
   {
    "duration": 0,
    "start_time": "2022-12-10T19:32:45.431Z"
   },
   {
    "duration": 0,
    "start_time": "2022-12-10T19:32:45.432Z"
   },
   {
    "duration": 0,
    "start_time": "2022-12-10T19:32:45.434Z"
   },
   {
    "duration": 0,
    "start_time": "2022-12-10T19:32:45.434Z"
   },
   {
    "duration": 0,
    "start_time": "2022-12-10T19:32:45.435Z"
   },
   {
    "duration": 0,
    "start_time": "2022-12-10T19:32:45.436Z"
   },
   {
    "duration": 0,
    "start_time": "2022-12-10T19:32:45.438Z"
   },
   {
    "duration": 1313,
    "start_time": "2022-12-10T20:34:55.033Z"
   },
   {
    "duration": 46,
    "start_time": "2022-12-10T20:34:56.347Z"
   },
   {
    "duration": 12,
    "start_time": "2022-12-10T20:34:56.395Z"
   },
   {
    "duration": 7,
    "start_time": "2022-12-10T20:34:56.409Z"
   },
   {
    "duration": 13,
    "start_time": "2022-12-10T20:34:56.418Z"
   },
   {
    "duration": 8,
    "start_time": "2022-12-10T20:34:56.433Z"
   },
   {
    "duration": 5,
    "start_time": "2022-12-10T20:34:56.443Z"
   },
   {
    "duration": 6,
    "start_time": "2022-12-10T20:34:56.449Z"
   },
   {
    "duration": 10,
    "start_time": "2022-12-10T20:34:56.457Z"
   },
   {
    "duration": 13,
    "start_time": "2022-12-10T20:34:56.470Z"
   },
   {
    "duration": 15,
    "start_time": "2022-12-10T20:34:56.484Z"
   },
   {
    "duration": 23,
    "start_time": "2022-12-10T20:34:56.522Z"
   },
   {
    "duration": 14,
    "start_time": "2022-12-10T20:34:56.547Z"
   },
   {
    "duration": 134,
    "start_time": "2022-12-10T20:34:56.563Z"
   },
   {
    "duration": 131,
    "start_time": "2022-12-10T20:34:56.699Z"
   },
   {
    "duration": 0,
    "start_time": "2022-12-10T20:34:56.832Z"
   },
   {
    "duration": 0,
    "start_time": "2022-12-10T20:34:56.833Z"
   },
   {
    "duration": 0,
    "start_time": "2022-12-10T20:34:56.834Z"
   },
   {
    "duration": 0,
    "start_time": "2022-12-10T20:34:56.835Z"
   },
   {
    "duration": 0,
    "start_time": "2022-12-10T20:34:56.835Z"
   },
   {
    "duration": 0,
    "start_time": "2022-12-10T20:34:56.836Z"
   },
   {
    "duration": 0,
    "start_time": "2022-12-10T20:34:56.837Z"
   },
   {
    "duration": 0,
    "start_time": "2022-12-10T20:34:56.839Z"
   },
   {
    "duration": 0,
    "start_time": "2022-12-10T20:34:56.839Z"
   },
   {
    "duration": 0,
    "start_time": "2022-12-10T20:34:56.840Z"
   },
   {
    "duration": 0,
    "start_time": "2022-12-10T20:34:56.841Z"
   },
   {
    "duration": 0,
    "start_time": "2022-12-10T20:34:56.843Z"
   },
   {
    "duration": 0,
    "start_time": "2022-12-10T20:34:56.844Z"
   },
   {
    "duration": 0,
    "start_time": "2022-12-10T20:34:56.845Z"
   },
   {
    "duration": 0,
    "start_time": "2022-12-10T20:34:56.846Z"
   },
   {
    "duration": 0,
    "start_time": "2022-12-10T20:34:56.846Z"
   },
   {
    "duration": 0,
    "start_time": "2022-12-10T20:34:56.847Z"
   },
   {
    "duration": 0,
    "start_time": "2022-12-10T20:34:56.848Z"
   },
   {
    "duration": 42,
    "start_time": "2022-12-10T20:35:32.226Z"
   },
   {
    "duration": 4,
    "start_time": "2022-12-10T20:35:36.196Z"
   },
   {
    "duration": 41,
    "start_time": "2022-12-10T20:35:40.157Z"
   },
   {
    "duration": 12,
    "start_time": "2022-12-10T20:35:45.186Z"
   },
   {
    "duration": 7,
    "start_time": "2022-12-10T20:35:50.120Z"
   },
   {
    "duration": 12,
    "start_time": "2022-12-10T20:35:57.949Z"
   },
   {
    "duration": 8,
    "start_time": "2022-12-10T20:36:30.656Z"
   },
   {
    "duration": 8,
    "start_time": "2022-12-10T20:37:00.029Z"
   },
   {
    "duration": 5,
    "start_time": "2022-12-10T20:37:17.294Z"
   },
   {
    "duration": 4,
    "start_time": "2022-12-10T20:37:18.501Z"
   },
   {
    "duration": 4,
    "start_time": "2022-12-10T20:37:24.777Z"
   },
   {
    "duration": 11,
    "start_time": "2022-12-10T20:37:37.709Z"
   },
   {
    "duration": 11,
    "start_time": "2022-12-10T20:37:41.208Z"
   },
   {
    "duration": 12,
    "start_time": "2022-12-10T20:39:12.184Z"
   },
   {
    "duration": 3,
    "start_time": "2022-12-10T20:39:29.030Z"
   },
   {
    "duration": 7,
    "start_time": "2022-12-10T20:39:55.017Z"
   },
   {
    "duration": 4,
    "start_time": "2022-12-10T20:39:55.786Z"
   },
   {
    "duration": 23,
    "start_time": "2022-12-10T20:40:01.309Z"
   },
   {
    "duration": 13,
    "start_time": "2022-12-10T20:40:05.950Z"
   },
   {
    "duration": 98,
    "start_time": "2022-12-10T20:40:09.357Z"
   },
   {
    "duration": 31,
    "start_time": "2022-12-10T20:40:14.147Z"
   },
   {
    "duration": 9,
    "start_time": "2022-12-10T20:40:58.685Z"
   },
   {
    "duration": 4,
    "start_time": "2022-12-10T20:40:59.568Z"
   },
   {
    "duration": 22,
    "start_time": "2022-12-10T20:41:02.565Z"
   },
   {
    "duration": 14,
    "start_time": "2022-12-10T20:41:05.530Z"
   },
   {
    "duration": 100,
    "start_time": "2022-12-10T20:41:06.975Z"
   },
   {
    "duration": 19,
    "start_time": "2022-12-10T20:41:10.753Z"
   },
   {
    "duration": 152,
    "start_time": "2022-12-10T20:41:15.259Z"
   },
   {
    "duration": 20541,
    "start_time": "2022-12-10T20:41:23.406Z"
   },
   {
    "duration": 6,
    "start_time": "2022-12-10T20:42:02.211Z"
   },
   {
    "duration": 6,
    "start_time": "2022-12-10T20:42:03.178Z"
   },
   {
    "duration": 9,
    "start_time": "2022-12-10T20:42:04.863Z"
   },
   {
    "duration": 7,
    "start_time": "2022-12-10T20:50:43.613Z"
   },
   {
    "duration": 5,
    "start_time": "2022-12-10T20:50:44.155Z"
   },
   {
    "duration": 6,
    "start_time": "2022-12-10T20:50:51.449Z"
   },
   {
    "duration": 15,
    "start_time": "2022-12-10T20:52:29.583Z"
   },
   {
    "duration": 11,
    "start_time": "2022-12-10T20:52:42.905Z"
   },
   {
    "duration": 26,
    "start_time": "2022-12-10T20:52:50.280Z"
   },
   {
    "duration": 32,
    "start_time": "2022-12-10T20:52:51.220Z"
   },
   {
    "duration": 597,
    "start_time": "2022-12-10T20:52:52.268Z"
   },
   {
    "duration": 5,
    "start_time": "2022-12-10T20:54:55.723Z"
   },
   {
    "duration": 7,
    "start_time": "2022-12-10T21:04:59.258Z"
   },
   {
    "duration": 11,
    "start_time": "2022-12-10T21:08:33.452Z"
   },
   {
    "duration": 109,
    "start_time": "2022-12-10T21:08:38.114Z"
   },
   {
    "duration": 171,
    "start_time": "2022-12-10T21:09:39.938Z"
   },
   {
    "duration": 23195,
    "start_time": "2022-12-10T21:11:44.626Z"
   },
   {
    "duration": 8,
    "start_time": "2022-12-10T21:14:30.232Z"
   },
   {
    "duration": 11,
    "start_time": "2022-12-10T21:14:38.646Z"
   },
   {
    "duration": 5,
    "start_time": "2022-12-10T21:14:45.063Z"
   },
   {
    "duration": 14,
    "start_time": "2022-12-10T21:15:14.162Z"
   },
   {
    "duration": 13,
    "start_time": "2022-12-10T21:17:00.114Z"
   },
   {
    "duration": 11,
    "start_time": "2022-12-10T21:17:11.776Z"
   },
   {
    "duration": 13,
    "start_time": "2022-12-10T21:17:17.492Z"
   },
   {
    "duration": 18,
    "start_time": "2022-12-10T21:17:25.219Z"
   },
   {
    "duration": 11,
    "start_time": "2022-12-10T21:17:34.571Z"
   },
   {
    "duration": 5,
    "start_time": "2022-12-10T21:17:43.216Z"
   },
   {
    "duration": 11,
    "start_time": "2022-12-10T21:17:52.175Z"
   },
   {
    "duration": 5,
    "start_time": "2022-12-10T21:17:56.680Z"
   },
   {
    "duration": 11,
    "start_time": "2022-12-10T21:18:12.290Z"
   },
   {
    "duration": 5,
    "start_time": "2022-12-10T21:18:13.219Z"
   },
   {
    "duration": 5,
    "start_time": "2022-12-10T21:18:13.739Z"
   },
   {
    "duration": 13,
    "start_time": "2022-12-10T21:19:53.062Z"
   },
   {
    "duration": 6,
    "start_time": "2022-12-10T21:19:55.841Z"
   },
   {
    "duration": 5,
    "start_time": "2022-12-10T21:19:56.950Z"
   },
   {
    "duration": 17,
    "start_time": "2022-12-10T21:20:09.266Z"
   },
   {
    "duration": 114,
    "start_time": "2022-12-10T21:20:48.099Z"
   },
   {
    "duration": 15126,
    "start_time": "2022-12-10T21:21:19.691Z"
   },
   {
    "duration": 515,
    "start_time": "2022-12-10T21:23:37.185Z"
   },
   {
    "duration": 72,
    "start_time": "2022-12-10T21:24:25.495Z"
   },
   {
    "duration": 68,
    "start_time": "2022-12-10T21:24:28.818Z"
   },
   {
    "duration": 1340,
    "start_time": "2022-12-10T21:24:34.606Z"
   },
   {
    "duration": 44,
    "start_time": "2022-12-10T21:24:35.948Z"
   },
   {
    "duration": 12,
    "start_time": "2022-12-10T21:24:35.994Z"
   },
   {
    "duration": 7,
    "start_time": "2022-12-10T21:24:36.008Z"
   },
   {
    "duration": 14,
    "start_time": "2022-12-10T21:24:36.017Z"
   },
   {
    "duration": 7,
    "start_time": "2022-12-10T21:24:36.033Z"
   },
   {
    "duration": 4,
    "start_time": "2022-12-10T21:24:36.042Z"
   },
   {
    "duration": 4,
    "start_time": "2022-12-10T21:24:36.048Z"
   },
   {
    "duration": 9,
    "start_time": "2022-12-10T21:24:36.053Z"
   },
   {
    "duration": 12,
    "start_time": "2022-12-10T21:24:36.063Z"
   },
   {
    "duration": 11,
    "start_time": "2022-12-10T21:24:36.076Z"
   },
   {
    "duration": 39,
    "start_time": "2022-12-10T21:24:36.088Z"
   },
   {
    "duration": 8,
    "start_time": "2022-12-10T21:24:36.128Z"
   },
   {
    "duration": 6,
    "start_time": "2022-12-10T21:24:36.140Z"
   },
   {
    "duration": 26,
    "start_time": "2022-12-10T21:24:36.147Z"
   },
   {
    "duration": 14,
    "start_time": "2022-12-10T21:24:36.175Z"
   },
   {
    "duration": 148,
    "start_time": "2022-12-10T21:24:36.191Z"
   },
   {
    "duration": 23,
    "start_time": "2022-12-10T21:24:36.340Z"
   },
   {
    "duration": 267,
    "start_time": "2022-12-10T21:24:36.423Z"
   },
   {
    "duration": 20304,
    "start_time": "2022-12-10T21:24:36.692Z"
   },
   {
    "duration": 6,
    "start_time": "2022-12-10T21:24:56.997Z"
   },
   {
    "duration": 5,
    "start_time": "2022-12-10T21:24:57.005Z"
   },
   {
    "duration": 6,
    "start_time": "2022-12-10T21:24:57.023Z"
   },
   {
    "duration": 5,
    "start_time": "2022-12-10T21:24:57.031Z"
   },
   {
    "duration": 7,
    "start_time": "2022-12-10T21:24:57.037Z"
   },
   {
    "duration": 13,
    "start_time": "2022-12-10T21:24:57.045Z"
   },
   {
    "duration": 65,
    "start_time": "2022-12-10T21:24:57.059Z"
   },
   {
    "duration": 264,
    "start_time": "2022-12-10T21:24:57.125Z"
   },
   {
    "duration": 22760,
    "start_time": "2022-12-10T21:24:57.390Z"
   },
   {
    "duration": 11,
    "start_time": "2022-12-10T21:25:20.152Z"
   },
   {
    "duration": 24,
    "start_time": "2022-12-10T21:25:20.165Z"
   },
   {
    "duration": 33,
    "start_time": "2022-12-10T21:25:20.191Z"
   },
   {
    "duration": 21,
    "start_time": "2022-12-10T21:25:20.225Z"
   },
   {
    "duration": 289,
    "start_time": "2022-12-10T21:25:20.247Z"
   },
   {
    "duration": 15342,
    "start_time": "2022-12-10T21:25:20.537Z"
   },
   {
    "duration": 0,
    "start_time": "2022-12-10T21:25:35.957Z"
   },
   {
    "duration": 0,
    "start_time": "2022-12-10T21:25:35.958Z"
   },
   {
    "duration": 0,
    "start_time": "2022-12-10T21:25:35.959Z"
   },
   {
    "duration": 373,
    "start_time": "2022-12-10T21:26:23.436Z"
   },
   {
    "duration": 149,
    "start_time": "2022-12-10T21:27:28.969Z"
   },
   {
    "duration": 5,
    "start_time": "2022-12-10T21:27:38.282Z"
   },
   {
    "duration": 1616,
    "start_time": "2022-12-12T08:13:47.676Z"
   },
   {
    "duration": 107,
    "start_time": "2022-12-12T08:13:49.294Z"
   },
   {
    "duration": 13,
    "start_time": "2022-12-12T08:13:49.403Z"
   },
   {
    "duration": 27,
    "start_time": "2022-12-12T08:13:49.418Z"
   },
   {
    "duration": 38,
    "start_time": "2022-12-12T08:13:49.448Z"
   },
   {
    "duration": 28,
    "start_time": "2022-12-12T08:13:49.488Z"
   },
   {
    "duration": 22,
    "start_time": "2022-12-12T08:13:49.518Z"
   },
   {
    "duration": 22,
    "start_time": "2022-12-12T08:13:49.542Z"
   },
   {
    "duration": 64,
    "start_time": "2022-12-12T08:13:49.566Z"
   },
   {
    "duration": 22,
    "start_time": "2022-12-12T08:13:49.633Z"
   },
   {
    "duration": 28,
    "start_time": "2022-12-12T08:13:49.657Z"
   },
   {
    "duration": 45,
    "start_time": "2022-12-12T08:13:49.687Z"
   },
   {
    "duration": 39,
    "start_time": "2022-12-12T08:13:49.734Z"
   },
   {
    "duration": 40,
    "start_time": "2022-12-12T08:13:49.774Z"
   },
   {
    "duration": 75,
    "start_time": "2022-12-12T08:13:49.817Z"
   },
   {
    "duration": 18,
    "start_time": "2022-12-12T08:13:49.894Z"
   },
   {
    "duration": 155,
    "start_time": "2022-12-12T08:13:49.914Z"
   },
   {
    "duration": 72,
    "start_time": "2022-12-12T08:13:50.071Z"
   },
   {
    "duration": 304,
    "start_time": "2022-12-12T08:13:50.145Z"
   },
   {
    "duration": 23428,
    "start_time": "2022-12-12T08:13:50.450Z"
   },
   {
    "duration": 6,
    "start_time": "2022-12-12T08:14:13.880Z"
   },
   {
    "duration": 59,
    "start_time": "2022-12-12T08:14:13.887Z"
   },
   {
    "duration": 26,
    "start_time": "2022-12-12T08:14:13.948Z"
   },
   {
    "duration": 6,
    "start_time": "2022-12-12T08:14:13.976Z"
   },
   {
    "duration": 8,
    "start_time": "2022-12-12T08:14:13.983Z"
   },
   {
    "duration": 14,
    "start_time": "2022-12-12T08:14:13.993Z"
   },
   {
    "duration": 32,
    "start_time": "2022-12-12T08:14:14.009Z"
   },
   {
    "duration": 371,
    "start_time": "2022-12-12T08:14:14.045Z"
   },
   {
    "duration": 1612,
    "start_time": "2022-12-12T12:28:22.317Z"
   },
   {
    "duration": 373,
    "start_time": "2022-12-12T12:28:48.370Z"
   },
   {
    "duration": 19,
    "start_time": "2022-12-12T12:28:49.144Z"
   },
   {
    "duration": 8,
    "start_time": "2022-12-12T12:28:51.882Z"
   },
   {
    "duration": 1509,
    "start_time": "2022-12-12T12:28:59.509Z"
   },
   {
    "duration": 52,
    "start_time": "2022-12-12T12:29:01.020Z"
   },
   {
    "duration": 14,
    "start_time": "2022-12-12T12:29:01.074Z"
   },
   {
    "duration": 8,
    "start_time": "2022-12-12T12:29:01.090Z"
   },
   {
    "duration": 18,
    "start_time": "2022-12-12T12:29:01.100Z"
   },
   {
    "duration": 17,
    "start_time": "2022-12-12T12:29:01.120Z"
   },
   {
    "duration": 6,
    "start_time": "2022-12-12T12:29:01.152Z"
   },
   {
    "duration": 20,
    "start_time": "2022-12-12T12:29:01.160Z"
   },
   {
    "duration": 22,
    "start_time": "2022-12-12T12:29:01.182Z"
   },
   {
    "duration": 24,
    "start_time": "2022-12-12T12:29:01.207Z"
   },
   {
    "duration": 23,
    "start_time": "2022-12-12T12:29:01.233Z"
   },
   {
    "duration": 23,
    "start_time": "2022-12-12T12:29:01.257Z"
   },
   {
    "duration": 12,
    "start_time": "2022-12-12T12:29:01.282Z"
   },
   {
    "duration": 10,
    "start_time": "2022-12-12T12:29:01.296Z"
   },
   {
    "duration": 33,
    "start_time": "2022-12-12T12:29:01.308Z"
   },
   {
    "duration": 21,
    "start_time": "2022-12-12T12:29:01.343Z"
   },
   {
    "duration": 149,
    "start_time": "2022-12-12T12:29:01.366Z"
   },
   {
    "duration": 37,
    "start_time": "2022-12-12T12:29:01.516Z"
   },
   {
    "duration": 379,
    "start_time": "2022-12-12T12:29:01.555Z"
   },
   {
    "duration": 24251,
    "start_time": "2022-12-12T12:29:01.935Z"
   },
   {
    "duration": 7,
    "start_time": "2022-12-12T12:29:26.189Z"
   },
   {
    "duration": 7,
    "start_time": "2022-12-12T12:29:26.198Z"
   },
   {
    "duration": 13,
    "start_time": "2022-12-12T12:29:26.207Z"
   },
   {
    "duration": 6,
    "start_time": "2022-12-12T12:29:26.222Z"
   },
   {
    "duration": 26,
    "start_time": "2022-12-12T12:29:26.229Z"
   },
   {
    "duration": 18,
    "start_time": "2022-12-12T12:29:26.257Z"
   },
   {
    "duration": 25,
    "start_time": "2022-12-12T12:29:26.277Z"
   },
   {
    "duration": 310,
    "start_time": "2022-12-12T12:29:26.355Z"
   },
   {
    "duration": 27309,
    "start_time": "2022-12-12T12:29:26.666Z"
   },
   {
    "duration": 13,
    "start_time": "2022-12-12T12:29:53.978Z"
   },
   {
    "duration": 5,
    "start_time": "2022-12-12T12:29:53.994Z"
   },
   {
    "duration": 9,
    "start_time": "2022-12-12T12:29:54.001Z"
   },
   {
    "duration": 46,
    "start_time": "2022-12-12T12:29:54.012Z"
   },
   {
    "duration": 321,
    "start_time": "2022-12-12T12:29:54.060Z"
   },
   {
    "duration": 18156,
    "start_time": "2022-12-12T12:29:54.383Z"
   },
   {
    "duration": 440,
    "start_time": "2022-12-12T12:30:12.541Z"
   },
   {
    "duration": 187,
    "start_time": "2022-12-12T12:30:12.983Z"
   },
   {
    "duration": 27,
    "start_time": "2022-12-12T12:30:13.172Z"
   },
   {
    "duration": 78,
    "start_time": "2022-12-12T12:30:37.776Z"
   },
   {
    "duration": 92,
    "start_time": "2022-12-12T12:33:03.006Z"
   },
   {
    "duration": 85,
    "start_time": "2022-12-12T12:33:29.298Z"
   },
   {
    "duration": 8,
    "start_time": "2022-12-12T12:36:32.886Z"
   },
   {
    "duration": 6,
    "start_time": "2022-12-12T12:36:36.638Z"
   },
   {
    "duration": 6,
    "start_time": "2022-12-12T12:36:40.786Z"
   },
   {
    "duration": 12,
    "start_time": "2022-12-12T12:37:27.976Z"
   },
   {
    "duration": 29,
    "start_time": "2022-12-12T12:37:32.960Z"
   },
   {
    "duration": 207,
    "start_time": "2022-12-12T12:37:34.071Z"
   },
   {
    "duration": 28292,
    "start_time": "2022-12-12T12:37:34.798Z"
   },
   {
    "duration": 14,
    "start_time": "2022-12-12T12:44:25.137Z"
   },
   {
    "duration": 8,
    "start_time": "2022-12-12T12:44:27.163Z"
   },
   {
    "duration": 9,
    "start_time": "2022-12-12T12:44:37.513Z"
   },
   {
    "duration": 13,
    "start_time": "2022-12-12T12:44:46.109Z"
   },
   {
    "duration": 13,
    "start_time": "2022-12-12T12:45:55.426Z"
   },
   {
    "duration": 10,
    "start_time": "2022-12-12T12:46:02.747Z"
   },
   {
    "duration": 12,
    "start_time": "2022-12-12T12:49:59.678Z"
   },
   {
    "duration": 7,
    "start_time": "2022-12-12T12:50:12.122Z"
   },
   {
    "duration": 7,
    "start_time": "2022-12-12T12:50:20.702Z"
   },
   {
    "duration": 20,
    "start_time": "2022-12-12T12:51:38.683Z"
   },
   {
    "duration": 109,
    "start_time": "2022-12-12T12:51:42.000Z"
   },
   {
    "duration": 15048,
    "start_time": "2022-12-12T12:51:43.930Z"
   },
   {
    "duration": 89,
    "start_time": "2022-12-12T12:52:36.869Z"
   },
   {
    "duration": 124,
    "start_time": "2022-12-12T12:52:54.361Z"
   },
   {
    "duration": 71,
    "start_time": "2022-12-12T12:53:00.985Z"
   },
   {
    "duration": 1476,
    "start_time": "2022-12-12T12:53:47.053Z"
   },
   {
    "duration": 49,
    "start_time": "2022-12-12T12:53:48.532Z"
   },
   {
    "duration": 14,
    "start_time": "2022-12-12T12:53:48.583Z"
   },
   {
    "duration": 8,
    "start_time": "2022-12-12T12:53:48.599Z"
   },
   {
    "duration": 15,
    "start_time": "2022-12-12T12:53:48.610Z"
   },
   {
    "duration": 31,
    "start_time": "2022-12-12T12:53:48.627Z"
   },
   {
    "duration": 6,
    "start_time": "2022-12-12T12:53:48.659Z"
   },
   {
    "duration": 9,
    "start_time": "2022-12-12T12:53:48.667Z"
   },
   {
    "duration": 7,
    "start_time": "2022-12-12T12:53:48.678Z"
   },
   {
    "duration": 13,
    "start_time": "2022-12-12T12:53:48.686Z"
   },
   {
    "duration": 12,
    "start_time": "2022-12-12T12:53:48.702Z"
   },
   {
    "duration": 35,
    "start_time": "2022-12-12T12:53:48.716Z"
   },
   {
    "duration": 9,
    "start_time": "2022-12-12T12:53:48.753Z"
   },
   {
    "duration": 6,
    "start_time": "2022-12-12T12:53:48.765Z"
   },
   {
    "duration": 26,
    "start_time": "2022-12-12T12:53:48.773Z"
   },
   {
    "duration": 15,
    "start_time": "2022-12-12T12:53:48.801Z"
   },
   {
    "duration": 137,
    "start_time": "2022-12-12T12:53:48.818Z"
   },
   {
    "duration": 33,
    "start_time": "2022-12-12T12:53:48.957Z"
   },
   {
    "duration": 305,
    "start_time": "2022-12-12T12:53:49.052Z"
   },
   {
    "duration": 24812,
    "start_time": "2022-12-12T12:53:49.359Z"
   },
   {
    "duration": 7,
    "start_time": "2022-12-12T12:54:14.173Z"
   },
   {
    "duration": 12,
    "start_time": "2022-12-12T12:54:14.182Z"
   },
   {
    "duration": 11,
    "start_time": "2022-12-12T12:54:14.196Z"
   },
   {
    "duration": 8,
    "start_time": "2022-12-12T12:54:14.209Z"
   },
   {
    "duration": 35,
    "start_time": "2022-12-12T12:54:14.219Z"
   },
   {
    "duration": 17,
    "start_time": "2022-12-12T12:54:14.256Z"
   },
   {
    "duration": 75,
    "start_time": "2022-12-12T12:54:14.275Z"
   },
   {
    "duration": 298,
    "start_time": "2022-12-12T12:54:14.353Z"
   },
   {
    "duration": 28741,
    "start_time": "2022-12-12T12:54:14.664Z"
   },
   {
    "duration": 14,
    "start_time": "2022-12-12T12:54:43.406Z"
   },
   {
    "duration": 29,
    "start_time": "2022-12-12T12:54:43.423Z"
   },
   {
    "duration": 8,
    "start_time": "2022-12-12T12:54:43.454Z"
   },
   {
    "duration": 17,
    "start_time": "2022-12-12T12:54:43.464Z"
   },
   {
    "duration": 125,
    "start_time": "2022-12-12T12:54:43.483Z"
   },
   {
    "duration": 142,
    "start_time": "2022-12-12T12:54:43.610Z"
   },
   {
    "duration": 129,
    "start_time": "2022-12-12T12:54:43.754Z"
   },
   {
    "duration": 15462,
    "start_time": "2022-12-12T12:54:43.885Z"
   },
   {
    "duration": 416,
    "start_time": "2022-12-12T12:54:59.351Z"
   },
   {
    "duration": 243,
    "start_time": "2022-12-12T12:54:59.769Z"
   },
   {
    "duration": 8,
    "start_time": "2022-12-12T12:55:00.014Z"
   },
   {
    "duration": 1489,
    "start_time": "2022-12-12T12:56:22.990Z"
   },
   {
    "duration": 62,
    "start_time": "2022-12-12T12:56:24.481Z"
   },
   {
    "duration": 15,
    "start_time": "2022-12-12T12:56:24.545Z"
   },
   {
    "duration": 11,
    "start_time": "2022-12-12T12:56:24.563Z"
   },
   {
    "duration": 20,
    "start_time": "2022-12-12T12:56:24.576Z"
   },
   {
    "duration": 10,
    "start_time": "2022-12-12T12:56:24.598Z"
   },
   {
    "duration": 45,
    "start_time": "2022-12-12T12:56:24.609Z"
   },
   {
    "duration": 20,
    "start_time": "2022-12-12T12:56:24.657Z"
   },
   {
    "duration": 9,
    "start_time": "2022-12-12T12:56:24.680Z"
   },
   {
    "duration": 16,
    "start_time": "2022-12-12T12:56:24.693Z"
   },
   {
    "duration": 17,
    "start_time": "2022-12-12T12:56:24.712Z"
   },
   {
    "duration": 31,
    "start_time": "2022-12-12T12:56:24.731Z"
   },
   {
    "duration": 12,
    "start_time": "2022-12-12T12:56:24.764Z"
   },
   {
    "duration": 7,
    "start_time": "2022-12-12T12:56:24.781Z"
   },
   {
    "duration": 28,
    "start_time": "2022-12-12T12:56:24.792Z"
   },
   {
    "duration": 38,
    "start_time": "2022-12-12T12:56:24.823Z"
   },
   {
    "duration": 116,
    "start_time": "2022-12-12T12:56:24.863Z"
   },
   {
    "duration": 175,
    "start_time": "2022-12-12T12:56:24.981Z"
   },
   {
    "duration": 278,
    "start_time": "2022-12-12T12:56:25.158Z"
   },
   {
    "duration": 25822,
    "start_time": "2022-12-12T12:56:25.438Z"
   },
   {
    "duration": 7,
    "start_time": "2022-12-12T12:56:51.262Z"
   },
   {
    "duration": 6,
    "start_time": "2022-12-12T12:56:51.271Z"
   },
   {
    "duration": 11,
    "start_time": "2022-12-12T12:56:51.279Z"
   },
   {
    "duration": 6,
    "start_time": "2022-12-12T12:56:51.292Z"
   },
   {
    "duration": 10,
    "start_time": "2022-12-12T12:56:51.299Z"
   },
   {
    "duration": 48,
    "start_time": "2022-12-12T12:56:51.311Z"
   },
   {
    "duration": 190,
    "start_time": "2022-12-12T12:56:51.361Z"
   },
   {
    "duration": 213,
    "start_time": "2022-12-12T12:56:51.555Z"
   },
   {
    "duration": 28892,
    "start_time": "2022-12-12T12:56:51.770Z"
   },
   {
    "duration": 12,
    "start_time": "2022-12-12T12:57:20.664Z"
   },
   {
    "duration": 19,
    "start_time": "2022-12-12T12:57:20.678Z"
   },
   {
    "duration": 7,
    "start_time": "2022-12-12T12:57:20.699Z"
   },
   {
    "duration": 102,
    "start_time": "2022-12-12T12:57:20.708Z"
   },
   {
    "duration": 53,
    "start_time": "2022-12-12T12:57:20.813Z"
   },
   {
    "duration": 288,
    "start_time": "2022-12-12T12:57:20.868Z"
   },
   {
    "duration": 15501,
    "start_time": "2022-12-12T12:57:21.158Z"
   },
   {
    "duration": 359,
    "start_time": "2022-12-12T12:57:36.661Z"
   },
   {
    "duration": 186,
    "start_time": "2022-12-12T12:57:37.022Z"
   },
   {
    "duration": 7,
    "start_time": "2022-12-12T12:57:37.210Z"
   },
   {
    "duration": 711,
    "start_time": "2022-12-12T13:00:32.336Z"
   },
   {
    "duration": 1629,
    "start_time": "2022-12-12T13:01:18.416Z"
   },
   {
    "duration": 51,
    "start_time": "2022-12-12T13:01:20.047Z"
   },
   {
    "duration": 18,
    "start_time": "2022-12-12T13:01:20.100Z"
   },
   {
    "duration": 12,
    "start_time": "2022-12-12T13:01:20.121Z"
   },
   {
    "duration": 23,
    "start_time": "2022-12-12T13:01:20.135Z"
   },
   {
    "duration": 11,
    "start_time": "2022-12-12T13:01:20.161Z"
   },
   {
    "duration": 6,
    "start_time": "2022-12-12T13:01:20.174Z"
   },
   {
    "duration": 6,
    "start_time": "2022-12-12T13:01:20.182Z"
   },
   {
    "duration": 17,
    "start_time": "2022-12-12T13:01:20.191Z"
   },
   {
    "duration": 46,
    "start_time": "2022-12-12T13:01:20.211Z"
   },
   {
    "duration": 17,
    "start_time": "2022-12-12T13:01:20.258Z"
   },
   {
    "duration": 16,
    "start_time": "2022-12-12T13:01:20.278Z"
   },
   {
    "duration": 14,
    "start_time": "2022-12-12T13:01:20.297Z"
   },
   {
    "duration": 6,
    "start_time": "2022-12-12T13:01:20.314Z"
   },
   {
    "duration": 51,
    "start_time": "2022-12-12T13:01:20.321Z"
   },
   {
    "duration": 16,
    "start_time": "2022-12-12T13:01:20.374Z"
   },
   {
    "duration": 129,
    "start_time": "2022-12-12T13:01:20.392Z"
   },
   {
    "duration": 134,
    "start_time": "2022-12-12T13:01:20.522Z"
   },
   {
    "duration": 282,
    "start_time": "2022-12-12T13:01:20.659Z"
   },
   {
    "duration": 24589,
    "start_time": "2022-12-12T13:01:20.944Z"
   },
   {
    "duration": 7,
    "start_time": "2022-12-12T13:01:45.535Z"
   },
   {
    "duration": 4,
    "start_time": "2022-12-12T13:01:45.551Z"
   },
   {
    "duration": 16,
    "start_time": "2022-12-12T13:01:45.557Z"
   },
   {
    "duration": 9,
    "start_time": "2022-12-12T13:01:45.574Z"
   },
   {
    "duration": 6,
    "start_time": "2022-12-12T13:01:45.585Z"
   },
   {
    "duration": 12,
    "start_time": "2022-12-12T13:01:45.593Z"
   },
   {
    "duration": 50,
    "start_time": "2022-12-12T13:01:45.608Z"
   },
   {
    "duration": 267,
    "start_time": "2022-12-12T13:01:45.751Z"
   },
   {
    "duration": 27409,
    "start_time": "2022-12-12T13:01:46.021Z"
   },
   {
    "duration": 10,
    "start_time": "2022-12-12T13:02:13.432Z"
   },
   {
    "duration": 37,
    "start_time": "2022-12-12T13:02:13.451Z"
   },
   {
    "duration": 9,
    "start_time": "2022-12-12T13:02:13.490Z"
   },
   {
    "duration": 104,
    "start_time": "2022-12-12T13:02:13.501Z"
   },
   {
    "duration": 50,
    "start_time": "2022-12-12T13:02:13.607Z"
   },
   {
    "duration": 222,
    "start_time": "2022-12-12T13:02:13.659Z"
   },
   {
    "duration": 15240,
    "start_time": "2022-12-12T13:02:13.884Z"
   },
   {
    "duration": 792,
    "start_time": "2022-12-12T13:02:29.126Z"
   },
   {
    "duration": 192,
    "start_time": "2022-12-12T13:02:29.920Z"
   },
   {
    "duration": 7,
    "start_time": "2022-12-12T13:02:30.113Z"
   },
   {
    "duration": 19,
    "start_time": "2022-12-12T13:04:07.424Z"
   },
   {
    "duration": 133,
    "start_time": "2022-12-12T13:04:14.841Z"
   },
   {
    "duration": 261,
    "start_time": "2022-12-12T13:04:20.045Z"
   },
   {
    "duration": 78,
    "start_time": "2022-12-12T13:04:29.576Z"
   },
   {
    "duration": 274,
    "start_time": "2022-12-12T13:04:33.645Z"
   },
   {
    "duration": 33,
    "start_time": "2022-12-12T13:04:48.520Z"
   },
   {
    "duration": 285,
    "start_time": "2022-12-12T13:04:50.224Z"
   },
   {
    "duration": 37317,
    "start_time": "2022-12-12T13:04:53.873Z"
   },
   {
    "duration": 11,
    "start_time": "2022-12-12T13:09:27.957Z"
   },
   {
    "duration": 81,
    "start_time": "2022-12-12T13:10:18.926Z"
   },
   {
    "duration": 10,
    "start_time": "2022-12-12T13:10:31.763Z"
   },
   {
    "duration": 9,
    "start_time": "2022-12-12T13:10:36.866Z"
   },
   {
    "duration": 72,
    "start_time": "2022-12-12T13:10:41.857Z"
   },
   {
    "duration": 9,
    "start_time": "2022-12-12T13:11:15.744Z"
   },
   {
    "duration": 76,
    "start_time": "2022-12-12T13:11:16.670Z"
   },
   {
    "duration": 42,
    "start_time": "2022-12-12T13:11:19.037Z"
   },
   {
    "duration": 234,
    "start_time": "2022-12-12T13:11:20.669Z"
   },
   {
    "duration": 31698,
    "start_time": "2022-12-12T13:11:22.011Z"
   },
   {
    "duration": 1518,
    "start_time": "2022-12-12T13:11:56.317Z"
   },
   {
    "duration": 49,
    "start_time": "2022-12-12T13:11:57.837Z"
   },
   {
    "duration": 14,
    "start_time": "2022-12-12T13:11:57.887Z"
   },
   {
    "duration": 9,
    "start_time": "2022-12-12T13:11:57.903Z"
   },
   {
    "duration": 16,
    "start_time": "2022-12-12T13:11:57.913Z"
   },
   {
    "duration": 23,
    "start_time": "2022-12-12T13:11:57.931Z"
   },
   {
    "duration": 9,
    "start_time": "2022-12-12T13:11:57.956Z"
   },
   {
    "duration": 6,
    "start_time": "2022-12-12T13:11:57.966Z"
   },
   {
    "duration": 7,
    "start_time": "2022-12-12T13:11:57.973Z"
   },
   {
    "duration": 12,
    "start_time": "2022-12-12T13:11:57.982Z"
   },
   {
    "duration": 11,
    "start_time": "2022-12-12T13:11:57.996Z"
   },
   {
    "duration": 10,
    "start_time": "2022-12-12T13:11:58.009Z"
   },
   {
    "duration": 37,
    "start_time": "2022-12-12T13:11:58.021Z"
   },
   {
    "duration": 5,
    "start_time": "2022-12-12T13:11:58.060Z"
   },
   {
    "duration": 27,
    "start_time": "2022-12-12T13:11:58.066Z"
   },
   {
    "duration": 15,
    "start_time": "2022-12-12T13:11:58.095Z"
   },
   {
    "duration": 139,
    "start_time": "2022-12-12T13:11:58.112Z"
   },
   {
    "duration": 98,
    "start_time": "2022-12-12T13:11:58.253Z"
   },
   {
    "duration": 273,
    "start_time": "2022-12-12T13:11:58.353Z"
   },
   {
    "duration": 24581,
    "start_time": "2022-12-12T13:11:58.628Z"
   },
   {
    "duration": 7,
    "start_time": "2022-12-12T13:12:23.211Z"
   },
   {
    "duration": 5,
    "start_time": "2022-12-12T13:12:23.220Z"
   },
   {
    "duration": 27,
    "start_time": "2022-12-12T13:12:23.227Z"
   },
   {
    "duration": 13,
    "start_time": "2022-12-12T13:12:23.256Z"
   },
   {
    "duration": 10,
    "start_time": "2022-12-12T13:12:23.271Z"
   },
   {
    "duration": 14,
    "start_time": "2022-12-12T13:12:23.283Z"
   },
   {
    "duration": 91,
    "start_time": "2022-12-12T13:12:23.299Z"
   },
   {
    "duration": 62,
    "start_time": "2022-12-12T13:12:23.393Z"
   },
   {
    "duration": 332,
    "start_time": "2022-12-12T13:12:23.458Z"
   },
   {
    "duration": 32537,
    "start_time": "2022-12-12T13:12:23.792Z"
   },
   {
    "duration": 9,
    "start_time": "2022-12-12T13:12:56.332Z"
   },
   {
    "duration": 6,
    "start_time": "2022-12-12T13:12:56.352Z"
   },
   {
    "duration": 22,
    "start_time": "2022-12-12T13:12:56.360Z"
   },
   {
    "duration": 113,
    "start_time": "2022-12-12T13:12:56.384Z"
   },
   {
    "duration": 53,
    "start_time": "2022-12-12T13:12:56.499Z"
   },
   {
    "duration": 212,
    "start_time": "2022-12-12T13:12:56.555Z"
   },
   {
    "duration": 15791,
    "start_time": "2022-12-12T13:12:56.769Z"
   },
   {
    "duration": 905,
    "start_time": "2022-12-12T13:13:12.562Z"
   },
   {
    "duration": 196,
    "start_time": "2022-12-12T13:13:13.469Z"
   },
   {
    "duration": 9,
    "start_time": "2022-12-12T13:13:13.668Z"
   },
   {
    "duration": 7,
    "start_time": "2022-12-12T13:42:29.692Z"
   },
   {
    "duration": 6,
    "start_time": "2022-12-12T13:42:37.579Z"
   },
   {
    "duration": 6,
    "start_time": "2022-12-12T13:43:44.191Z"
   },
   {
    "duration": 31,
    "start_time": "2022-12-12T13:45:06.638Z"
   },
   {
    "duration": 245,
    "start_time": "2022-12-12T13:45:10.487Z"
   },
   {
    "duration": 32709,
    "start_time": "2022-12-12T13:45:15.037Z"
   },
   {
    "duration": 8,
    "start_time": "2022-12-12T13:46:47.269Z"
   },
   {
    "duration": 1482,
    "start_time": "2022-12-12T13:49:41.536Z"
   },
   {
    "duration": 50,
    "start_time": "2022-12-12T13:49:43.020Z"
   },
   {
    "duration": 14,
    "start_time": "2022-12-12T13:49:43.072Z"
   },
   {
    "duration": 9,
    "start_time": "2022-12-12T13:49:43.088Z"
   },
   {
    "duration": 17,
    "start_time": "2022-12-12T13:49:43.099Z"
   },
   {
    "duration": 12,
    "start_time": "2022-12-12T13:49:43.118Z"
   },
   {
    "duration": 23,
    "start_time": "2022-12-12T13:49:43.132Z"
   },
   {
    "duration": 16,
    "start_time": "2022-12-12T13:49:43.157Z"
   },
   {
    "duration": 13,
    "start_time": "2022-12-12T13:49:43.175Z"
   },
   {
    "duration": 15,
    "start_time": "2022-12-12T13:49:43.189Z"
   },
   {
    "duration": 15,
    "start_time": "2022-12-12T13:49:43.206Z"
   },
   {
    "duration": 13,
    "start_time": "2022-12-12T13:49:43.222Z"
   },
   {
    "duration": 18,
    "start_time": "2022-12-12T13:49:43.237Z"
   },
   {
    "duration": 4,
    "start_time": "2022-12-12T13:49:43.259Z"
   },
   {
    "duration": 30,
    "start_time": "2022-12-12T13:49:43.265Z"
   },
   {
    "duration": 15,
    "start_time": "2022-12-12T13:49:43.297Z"
   },
   {
    "duration": 127,
    "start_time": "2022-12-12T13:49:43.314Z"
   },
   {
    "duration": 25,
    "start_time": "2022-12-12T13:49:43.450Z"
   },
   {
    "duration": 356,
    "start_time": "2022-12-12T13:49:43.477Z"
   },
   {
    "duration": 24890,
    "start_time": "2022-12-12T13:49:43.835Z"
   },
   {
    "duration": 6,
    "start_time": "2022-12-12T13:50:08.727Z"
   },
   {
    "duration": 16,
    "start_time": "2022-12-12T13:50:08.735Z"
   },
   {
    "duration": 9,
    "start_time": "2022-12-12T13:50:08.753Z"
   },
   {
    "duration": 5,
    "start_time": "2022-12-12T13:50:08.764Z"
   },
   {
    "duration": 92,
    "start_time": "2022-12-12T13:50:08.771Z"
   },
   {
    "duration": 89,
    "start_time": "2022-12-12T13:50:08.865Z"
   },
   {
    "duration": 342,
    "start_time": "2022-12-12T13:50:08.957Z"
   },
   {
    "duration": 31980,
    "start_time": "2022-12-12T13:50:09.300Z"
   },
   {
    "duration": 9,
    "start_time": "2022-12-12T13:50:41.282Z"
   },
   {
    "duration": 5,
    "start_time": "2022-12-12T13:50:41.292Z"
   },
   {
    "duration": 9,
    "start_time": "2022-12-12T13:50:41.299Z"
   },
   {
    "duration": 94,
    "start_time": "2022-12-12T13:50:41.310Z"
   },
   {
    "duration": 48,
    "start_time": "2022-12-12T13:50:41.406Z"
   },
   {
    "duration": 201,
    "start_time": "2022-12-12T13:50:41.457Z"
   },
   {
    "duration": 15047,
    "start_time": "2022-12-12T13:50:41.661Z"
   },
   {
    "duration": 826,
    "start_time": "2022-12-12T13:50:56.709Z"
   },
   {
    "duration": 184,
    "start_time": "2022-12-12T13:50:57.537Z"
   },
   {
    "duration": 7,
    "start_time": "2022-12-12T13:50:57.724Z"
   }
  ],
  "kernelspec": {
   "display_name": "Python 3 (ipykernel)",
   "language": "python",
   "name": "python3"
  },
  "language_info": {
   "codemirror_mode": {
    "name": "ipython",
    "version": 3
   },
   "file_extension": ".py",
   "mimetype": "text/x-python",
   "name": "python",
   "nbconvert_exporter": "python",
   "pygments_lexer": "ipython3",
   "version": "3.9.5"
  },
  "toc": {
   "base_numbering": 1,
   "nav_menu": {},
   "number_sections": true,
   "sideBar": true,
   "skip_h1_title": true,
   "title_cell": "Содержание",
   "title_sidebar": "Contents",
   "toc_cell": true,
   "toc_position": {},
   "toc_section_display": true,
   "toc_window_display": true
  }
 },
 "nbformat": 4,
 "nbformat_minor": 2
}
